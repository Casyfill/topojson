{
 "cells": [
  {
   "cell_type": "code",
   "execution_count": 1,
   "metadata": {},
   "outputs": [],
   "source": [
    "import os\n",
    "import geopandas\n",
    "\n",
    "import json\n",
    "import topojson\n",
    "from topojson.utils.ops import select_unique_combs\n",
    "from topojson.utils.ops import junctions_shared_paths\n",
    "\n",
    "from IPython.display import SVG, display\n",
    "from shapely import geometry\n",
    "\n",
    "import numpy as np\n",
    "%matplotlib inline"
   ]
  },
  {
   "cell_type": "code",
   "execution_count": 2,
   "metadata": {},
   "outputs": [
    {
     "data": {
      "text/plain": [
       "'1.0rc1'"
      ]
     },
     "execution_count": 2,
     "metadata": {},
     "output_type": "execute_result"
    }
   ],
   "source": [
    "topojson.__version__"
   ]
  },
  {
   "cell_type": "code",
   "execution_count": 3,
   "metadata": {},
   "outputs": [],
   "source": [
    "# ne_highres = '/Users/mattijnvanhoek/Downloads/ne_10m_admin_1_states_provinces/ne_10m_admin_1_states_provinces.shp'\n",
    "# os.path.isfile(ne_highres)"
   ]
  },
  {
   "cell_type": "code",
   "execution_count": 4,
   "metadata": {},
   "outputs": [],
   "source": [
    "data = geopandas.read_file(geopandas.datasets.get_path(\"naturalearth_lowres\"))"
   ]
  },
  {
   "cell_type": "code",
   "execution_count": 6,
   "metadata": {},
   "outputs": [
    {
     "name": "stdout",
     "output_type": "stream",
     "text": [
      "287\n",
      " "
     ]
    },
    {
     "data": {
      "text/plain": [
       "         399290 function calls (388511 primitive calls) in 0.711 seconds\n",
       "\n",
       "   Ordered by: internal time\n",
       "   List reduced from 521 to 10 due to restriction <10>\n",
       "\n",
       "   ncalls  tottime  percall  cumtime  percall filename:lineno(function)\n",
       "      287    0.219    0.001    0.420    0.001 ops.py:56(junctions_shared_paths)\n",
       "     1318    0.045    0.000    0.045    0.000 {method 'argsort' of 'numpy.ndarray' objects}\n",
       "     4646    0.032    0.000    0.035    0.000 predicates.py:23(__call__)\n",
       "    533/1    0.024    0.000    0.045    0.045 copy.py:236(_deepcopy_dict)\n",
       "     1419    0.021    0.000    0.062    0.000 arraysetops.py:268(_unique1d)\n",
       "     1444    0.019    0.000    0.019    0.000 {method 'reduce' of 'numpy.ufunc' objects}\n",
       "      928    0.018    0.000    0.045    0.000 coords.py:164(__call__)\n",
       "      859    0.015    0.000    0.093    0.000 arraysetops.py:434(in1d)\n",
       "     1144    0.015    0.000    0.024    0.000 function_base.py:4270(insert)\n",
       "13058/12881    0.010    0.000    0.019    0.000 {built-in method numpy.core.multiarray.array}"
      ]
     },
     "metadata": {},
     "output_type": "display_data"
    }
   ],
   "source": [
    "%%prun -l 10\n",
    "# present timing split out in the different subtasks\n",
    "ex = topojson.extract(data)\n",
    "jo = topojson.join(ex)"
   ]
  },
  {
   "cell_type": "code",
   "execution_count": 7,
   "metadata": {},
   "outputs": [],
   "source": [
    "# 0.711 seconds using Numpy-variant versus 0.953 seconds with the v1.0rc1 version\n",
    "# Numpy variant is 30% quicker, but with a result of lower quality\n",
    "# My feeling says its not worth it.\n",
    "# moreover, it still cannot process high resolution geometric files."
   ]
  },
  {
   "cell_type": "code",
   "execution_count": null,
   "metadata": {},
   "outputs": [],
   "source": [
    "#jo['junctions']"
   ]
  },
  {
   "cell_type": "code",
   "execution_count": null,
   "metadata": {},
   "outputs": [],
   "source": [
    "g_jc = geometry.MultiPoint(jo['junctions'])\n",
    "g_ls = geometry.MultiLineString([obj[~np.isnan(obj)[:,0]].tolist() for obj in jo['linestrings']])\n",
    "geometry.GeometryCollection([g_jc,g_ls])"
   ]
  },
  {
   "cell_type": "code",
   "execution_count": null,
   "metadata": {},
   "outputs": [],
   "source": [
    "np.isin(ls_xy, jc).sum(axis=2)"
   ]
  },
  {
   "cell_type": "code",
   "execution_count": null,
   "metadata": {},
   "outputs": [],
   "source": [
    "ls_xy = jo['linestrings']\n",
    "ls_xy_roll = np.roll(ls_xy, 1, axis=1)"
   ]
  },
  {
   "cell_type": "code",
   "execution_count": null,
   "metadata": {},
   "outputs": [],
   "source": []
  },
  {
   "cell_type": "code",
   "execution_count": null,
   "metadata": {},
   "outputs": [],
   "source": [
    "eucl_dist = np.sqrt(\n",
    "    (ls_xy_roll[:, :, 0] - ls_xy[:, :, 0]) ** 2 + (ls_xy_roll[:, :, 1] - ls_xy[:, :, 1]) ** 2\n",
    ")\n",
    "eucl_dist[:,0] = 0\n",
    "ls_cumsum = eucl_dist.cumsum(axis=0)"
   ]
  },
  {
   "cell_type": "code",
   "execution_count": null,
   "metadata": {},
   "outputs": [],
   "source": [
    "# make numpy array from coordinates of extracted linestrings\n",
    "arraylist = [np.array(g) for g in ex['linestrings']]\n",
    "# lengths of linestrings\n",
    "length_geoms = np.array([len(xy) for xy in arraylist])"
   ]
  },
  {
   "cell_type": "code",
   "execution_count": null,
   "metadata": {},
   "outputs": [],
   "source": [
    "# define empty array with size no. linestrings * max. length linestrings * no. coordinates\n",
    "coord_arr = np.ones((len(arraylist), np.max(length_geoms), 2))*np.nan \n",
    "# populate columns\n",
    "for i, c in enumerate(arraylist):  \n",
    "    coord_arr[i, :len(c)] = c"
   ]
  },
  {
   "cell_type": "code",
   "execution_count": null,
   "metadata": {},
   "outputs": [],
   "source": [
    "junctions_list = []\n",
    "for val in combs:\n",
    "    idx_geom = val[0]\n",
    "    shared_geoms = val[1]\n",
    "    junctions = junctions_shared_paths(coord_arr, idx_geom, shared_geoms, length_geoms)\n",
    "    junctions_list.extend([junctions])\n",
    "    \n",
    "#unique_junctions = np.unique(np.array(junctions_list), axis=0)    "
   ]
  },
  {
   "cell_type": "code",
   "execution_count": null,
   "metadata": {},
   "outputs": [],
   "source": [
    "unique_junctions"
   ]
  },
  {
   "cell_type": "code",
   "execution_count": null,
   "metadata": {},
   "outputs": [],
   "source": [
    "length_geom2 = np.array([len(xy) for xy in junctions_list])\n",
    "len(junctions_list)\n",
    "coord_ar2 = np.ones((len(junctions_list), np.max(length_geom2), 2))*np.nan \n",
    "# populate columns\n",
    "for i, c in enumerate(junctions_list):  \n",
    "    coord_ar2[i, :len(c)] = c"
   ]
  },
  {
   "cell_type": "code",
   "execution_count": null,
   "metadata": {},
   "outputs": [],
   "source": [
    "coord_ar2"
   ]
  },
  {
   "cell_type": "code",
   "execution_count": null,
   "metadata": {},
   "outputs": [],
   "source": [
    "np.unique(coord_ar2, )"
   ]
  },
  {
   "cell_type": "code",
   "execution_count": null,
   "metadata": {},
   "outputs": [],
   "source": []
  }
 ],
 "metadata": {
  "kernelspec": {
   "display_name": "Python 3",
   "language": "python",
   "name": "python3"
  },
  "language_info": {
   "codemirror_mode": {
    "name": "ipython",
    "version": 3
   },
   "file_extension": ".py",
   "mimetype": "text/x-python",
   "name": "python",
   "nbconvert_exporter": "python",
   "pygments_lexer": "ipython3",
   "version": "3.7.2"
  }
 },
 "nbformat": 4,
 "nbformat_minor": 2
}
