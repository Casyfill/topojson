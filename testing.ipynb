{
 "cells": [
  {
   "cell_type": "code",
   "execution_count": 1,
   "metadata": {},
   "outputs": [],
   "source": [
    "import os\n",
    "import geopandas\n",
    "\n",
    "import json\n",
    "import topojson\n",
    "from topojson.utils.ops import select_unique_combs\n",
    "from topojson.utils.ops import junctions_shared_paths\n",
    "\n",
    "from IPython.display import SVG, display\n",
    "from shapely import geometry\n",
    "\n",
    "import numpy as np\n",
    "%matplotlib inline"
   ]
  },
  {
   "cell_type": "code",
   "execution_count": 2,
   "metadata": {},
   "outputs": [],
   "source": [
    "data = geopandas.read_file(geopandas.datasets.get_path(\"naturalearth_lowres\"))\n",
    "data = data[\n",
    "    (data.name == \"Togo\")\n",
    "    | (data.name == \"Benin\")\n",
    "    | (data.name == \"Burkina Faso\")\n",
    "]"
   ]
  },
  {
   "cell_type": "code",
   "execution_count": 3,
   "metadata": {},
   "outputs": [],
   "source": [
    "# present timing split out in the different subtasks\n",
    "ex = topojson.extract(data)\n",
    "combs = select_unique_combs(ex['linestrings'])"
   ]
  },
  {
   "cell_type": "code",
   "execution_count": 4,
   "metadata": {},
   "outputs": [],
   "source": [
    "# make numpy array from coordinates of extracted linestrings\n",
    "arraylist = [np.array(g) for g in ex['linestrings']]\n",
    "# lengths of linestrings\n",
    "length_geoms = np.array([len(xy) for xy in arraylist])"
   ]
  },
  {
   "cell_type": "code",
   "execution_count": 5,
   "metadata": {},
   "outputs": [],
   "source": [
    "# define empty array with size no. linestrings * max. length linestrings * no. coordinates\n",
    "coord_arr = np.ones((len(arraylist), np.max(length_geoms), 2))*np.nan \n",
    "# populate columns\n",
    "for i, c in enumerate(arraylist):  \n",
    "    coord_arr[i, :len(c)] = c"
   ]
  },
  {
   "cell_type": "code",
   "execution_count": 6,
   "metadata": {},
   "outputs": [],
   "source": [
    "junctions_list = []\n",
    "for val in combs:\n",
    "    idx_geom = val[0]\n",
    "    shared_geoms = val[1]\n",
    "    junctions = junctions_shared_paths(coord_arr, idx_geom, shared_geoms, length_geoms)\n",
    "    junctions_list.extend(junctions)\n",
    "    \n",
    "unique_junctions = np.unique(np.array(junctions_list), axis=0)    "
   ]
  },
  {
   "cell_type": "code",
   "execution_count": 7,
   "metadata": {},
   "outputs": [
    {
     "data": {
      "text/plain": [
       "array([[-0.43870154, 11.09834097],\n",
       "       [ 0.02380252, 11.01868175],\n",
       "       [ 0.77233565, 10.47080821],\n",
       "       [ 0.89956302, 10.99733938],\n",
       "       [ 1.24346968, 11.11051077],\n",
       "       [ 1.86524051,  6.1421577 ],\n",
       "       [ 2.1544735 , 11.94015005],\n",
       "       [ 2.49016361, 12.23305207],\n",
       "       [ 2.69170169,  6.25881725]])"
      ]
     },
     "execution_count": 7,
     "metadata": {},
     "output_type": "execute_result"
    }
   ],
   "source": [
    "unique_junctions"
   ]
  },
  {
   "cell_type": "code",
   "execution_count": null,
   "metadata": {},
   "outputs": [],
   "source": []
  }
 ],
 "metadata": {
  "kernelspec": {
   "display_name": "Python 3",
   "language": "python",
   "name": "python3"
  },
  "language_info": {
   "codemirror_mode": {
    "name": "ipython",
    "version": 3
   },
   "file_extension": ".py",
   "mimetype": "text/x-python",
   "name": "python",
   "nbconvert_exporter": "python",
   "pygments_lexer": "ipython3",
   "version": "3.7.2"
  }
 },
 "nbformat": 4,
 "nbformat_minor": 2
}
