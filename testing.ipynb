{
 "cells": [
  {
   "cell_type": "code",
   "execution_count": 1,
   "metadata": {},
   "outputs": [],
   "source": [
    "import os\n",
    "import geopandas\n",
    "\n",
    "import json\n",
    "import topojson\n",
    "from topojson.utils.ops import select_unique_combs\n",
    "from topojson.utils.ops import junctions_shared_paths\n",
    "\n",
    "from IPython.display import SVG, display\n",
    "from shapely import geometry\n",
    "\n",
    "import numpy as np\n",
    "%matplotlib inline"
   ]
  },
  {
   "cell_type": "code",
   "execution_count": 2,
   "metadata": {},
   "outputs": [],
   "source": [
    "def list_from_array(array_bk):\n",
    "    \"\"\"\n",
    "    Function to convert numpy array to list, where elements set as np.nan \n",
    "    are filtered\n",
    "    \"\"\"\n",
    "\n",
    "    list_bk = [obj[~np.isnan(obj)].tolist() for obj in array_bk]\n",
    "    return list_bk"
   ]
  },
  {
   "cell_type": "code",
   "execution_count": 61,
   "metadata": {},
   "outputs": [],
   "source": [
    "data = geopandas.read_file(geopandas.datasets.get_path(\"naturalearth_lowres\"))\n",
    "data = data[\n",
    "    (data.name == \"Togo\")\n",
    "    | (data.name == \"Benin\")\n",
    "    | (data.name == \"Burkina Faso\")\n",
    "    | (data.name == \"Niger\")   \n",
    "    | (data.name == \"Nigeria\")       \n",
    "]\n",
    "\n",
    "# data = {\n",
    "#     \"abca\": {\n",
    "#         \"type\": \"Polygon\",\n",
    "#         \"coordinates\": [[[0, 0], [1, 0], [0, 1], [0, 0]]],\n",
    "#     },\n",
    "#     \"dbed\": {\n",
    "#         \"type\": \"Polygon\",\n",
    "#         \"coordinates\": [[[2, 1], [1, 0], [2, 2], [2, 1]]],\n",
    "#     },\n",
    "# }\n",
    "\n",
    "# data = geopandas.read_file(geopandas.datasets.get_path(\"naturalearth_lowres\"))\n",
    "# data = data[\n",
    "#     (data.name == \"Eritrea\")\n",
    "#     | (data.name == \"Ethiopia\")\n",
    "#     | (data.name == \"Sudan\")\n",
    "# ]"
   ]
  },
  {
   "cell_type": "code",
   "execution_count": 62,
   "metadata": {},
   "outputs": [],
   "source": [
    "# present timing split out in the different subtasks\n",
    "ex = topojson.extract(data)\n",
    "jo = topojson.join(ex)"
   ]
  },
  {
   "cell_type": "code",
   "execution_count": 63,
   "metadata": {},
   "outputs": [
    {
     "data": {
      "text/plain": [
       "array([[ 0.02380252, 11.01868175],\n",
       "       [ 0.89956302, 10.99733938],\n",
       "       [ 1.86524051,  6.1421577 ],\n",
       "       [ 2.1544735 , 11.94015005],\n",
       "       [ 2.69170169,  6.25881725],\n",
       "       [ 3.61118045, 11.66016714]])"
      ]
     },
     "execution_count": 63,
     "metadata": {},
     "output_type": "execute_result"
    }
   ],
   "source": [
    "jo['junctions']"
   ]
  },
  {
   "cell_type": "code",
   "execution_count": 64,
   "metadata": {},
   "outputs": [
    {
     "data": {
      "image/svg+xml": [
       "<svg xmlns=\"http://www.w3.org/2000/svg\" xmlns:xlink=\"http://www.w3.org/1999/xlink\" width=\"100.0\" height=\"100.0\" viewBox=\"-6.325517413752738 3.385641717945784 23.083716577240786 20.940979150474384\" preserveAspectRatio=\"xMinYMin meet\"><g transform=\"matrix(1,0,0,-1,0,27.712262586365952)\"><g><g><circle cx=\"0.023802524423700785\" cy=\"11.018681748900804\" r=\"0.6925114973172236\" stroke=\"#555555\" stroke-width=\"0.23083716577240787\" fill=\"#66cc99\" opacity=\"0.6\" /><circle cx=\"0.8995630224740694\" cy=\"10.99733938236426\" r=\"0.6925114973172236\" stroke=\"#555555\" stroke-width=\"0.23083716577240787\" fill=\"#66cc99\" opacity=\"0.6\" /><circle cx=\"1.8652405127123188\" cy=\"6.142157701029731\" r=\"0.6925114973172236\" stroke=\"#555555\" stroke-width=\"0.23083716577240787\" fill=\"#66cc99\" opacity=\"0.6\" /><circle cx=\"2.1544735042499212\" cy=\"11.940150051313339\" r=\"0.6925114973172236\" stroke=\"#555555\" stroke-width=\"0.23083716577240787\" fill=\"#66cc99\" opacity=\"0.6\" /><circle cx=\"2.6917016943562544\" cy=\"6.258817246928629\" r=\"0.6925114973172236\" stroke=\"#555555\" stroke-width=\"0.23083716577240787\" fill=\"#66cc99\" opacity=\"0.6\" /><circle cx=\"3.611180454125559\" cy=\"11.660167141155968\" r=\"0.6925114973172236\" stroke=\"#555555\" stroke-width=\"0.23083716577240787\" fill=\"#66cc99\" opacity=\"0.6\" /></g><g><polyline fill=\"none\" stroke=\"#66cc99\" stroke-width=\"0.46167433154481574\" points=\"2.6917016943562544,6.258817246928629 1.8652405127123188,6.142157701029731 1.618950636409238,6.832038072126238 1.664477573258381,9.12859039960938 1.46304284018467,9.334624335157088 1.425060662450136,9.825395412633 1.0777950374487375,10.175606594275024 0.7723356461714843,10.470808213742359 0.8995630224740694,10.99733938236426 1.2434696793764886,11.110510769083461 1.4471781754710662,11.547719224488858 1.9359855485198807,11.641150214072553 2.1544735042499212,11.940150051313339 2.49016360841793,12.233052069543675 2.848643019226671,12.235635891158267 3.611180454125559,11.660167141155968 3.572216424177469,11.32793935795152 3.7971122575117136,10.734745591673105 3.600070021182802,10.332186184119408 3.7054382666259187,10.063210354040208 3.2203515967021015,9.444152533399702 2.912308383810256,9.137607937044322 2.723792758809509,8.50684540448971 2.7490625342002204,7.870734361192888 2.6917016943562544,6.258817246928629\" opacity=\"0.8\" /><polyline fill=\"none\" stroke=\"#66cc99\" stroke-width=\"0.46167433154481574\" points=\"-2.8274963037127065,9.642460842319778 -3.511898972986273,9.90032623945622 -3.9804491845766847,9.8623440617217 -4.3302469547603835,9.610834865757141 -4.7798835921319665,9.821984768101743 -4.954653286143099,10.152713934769736 -5.404341599946974,10.370736802609146 -5.470564947929006,10.951269842976048 -5.1978425765086484,11.37514577885014 -5.220941941743121,11.713858954307227 -4.427166103523803,12.542645575404295 -4.28040503581488,13.228443508349741 -4.006390753587226,13.472485459848116 -3.522802700199861,13.337661647998615 -3.1037068343127596,13.541266791228594 -2.9676944645205765,13.79815033615151 -2.1918245100903846,14.246417548067356 -2.001035122068771,14.559008287000893 -1.0663634912056636,14.973815009007765 -0.5158544580003479,15.116157741755728 -0.2662572900305804,14.924308986872148 0.3748922054146817,14.92890818934613 0.29564639649510127,14.444234930880654 0.429927605805517,13.988733018443924 0.9930456884900708,13.335749620003824 1.0241032242974768,12.851825669806574 2.177107781593776,12.625017808477535 2.1544735042499212,11.940150051313339 1.9359855485198807,11.641150214072553 1.4471781754710662,11.547719224488858 1.2434696793764886,11.110510769083461 0.8995630224740694,10.99733938236426 0.023802524423700785,11.018681748900804 -0.43870154458858224,11.098340969278722 -0.7615758935481834,10.936929633015055 -1.2033577132114317,11.009819240762738 -2.9404093082704605,10.962690334512558 -2.9638962467471117,10.395334784380083 -2.8274963037127065,9.642460842319778\" opacity=\"0.8\" /><polyline fill=\"none\" stroke=\"#66cc99\" stroke-width=\"0.46167433154481574\" points=\"2.1544735042499497,11.940150051313424 2.177107781593918,12.625017808477537 1.024103224297619,12.851825669806601 0.993045688490156,13.335749620003867 0.42992760580551703,13.988733018443895 0.29564639649521496,14.444234930880668 0.374892205414767,14.928908189346146 1.0157833186984817,14.96818227788799 1.385528191746971,15.323561102759243 2.749992709981541,15.409524847876753 3.638258904646591,15.568119818580442 3.723421665063597,16.184283759012658 4.270209995143887,16.852227484601315 4.267419467800096,19.155265204337127 5.677565952180714,19.6012069767998 8.57289310062987,21.56566071215923 11.9995056494717,23.471668402596435 13.581424594790462,23.04050608976928 14.143870883855243,22.491288967371133 14.851300000000037,22.862950000000126 15.096887648181848,21.30851878507491 15.471076694407316,21.048457139565983 15.487148064850146,20.730414537025638 15.903246697664315,20.387618923417506 15.685740594147774,19.957180080642388 15.30044111497972,17.927949937405003 15.247731154041844,16.627305813050782 13.972201775781684,15.684365953021143 13.540393507550789,14.367133693901224 13.956698846094127,13.996691189016929 13.95447675950561,13.353448798063766 14.595781284247607,13.33042694747786 14.495787387762903,12.859396267137356 14.21353071458475,12.802035427293333 14.18133629726691,12.483656927943173 13.995352817448293,12.461565253138303 13.318701613018561,13.556356309457954 13.083987257548813,13.596147162322495 12.30207116054055,13.037189032437539 11.527803175511508,13.32898000737356 10.989593133191534,13.387322699431195 10.701031935273818,13.246917832894042 10.11481448735475,13.277251898649467 9.52492801274309,12.851102199754564 9.014933302454438,12.826659247280418 7.804671258178871,13.343526923063735 7.3307466976300475,13.098038031461215 6.820441928747812,13.115091254117601 6.4454260596057225,13.492768459522722 5.443058302440136,13.865923977102227 4.368343540066007,13.747481594289411 4.107945997747379,13.531215725147945 3.967282749048934,12.956108710171577 3.6806335791259244,12.55290334721417 3.611180454125588,11.660167141155966 2.8486430192265857,12.23563589115821 2.4901636084180154,12.23305206954359 2.1544735042499497,11.940150051313424\" opacity=\"0.8\" /><polyline fill=\"none\" stroke=\"#66cc99\" stroke-width=\"0.46167433154481574\" points=\"8.500287713259695,4.7719829370268485 7.462108188515941,4.412108262546241 7.0825964697644395,4.4646890324032285 6.6980721370806,4.240594183769517 5.898172641634687,4.262453314628985 5.3628048030908815,4.887970689305959 5.033574252959369,5.611802476418234 4.325607130560684,6.2706511499234665 3.574180128604553,6.258300482605719 2.6917016943562544,6.258817246928629 2.7490625342002204,7.870734361192888 2.723792758809509,8.50684540448971 2.912308383810256,9.137607937044322 3.2203515967021015,9.444152533399702 3.7054382666259187,10.063210354040208 3.600070021182802,10.332186184119408 3.7971122575117136,10.734745591673105 3.572216424177469,11.32793935795152 3.611180454125559,11.660167141155968 3.6806335791258107,12.552903347214226 3.9672827490488487,12.956108710171575 4.107945997747322,13.531215725147831 4.368343540066064,13.747481594289326 5.443058302440164,13.865923977102298 6.445426059605637,13.492768459522678 6.820441928747754,13.115091254117518 7.330746697630019,13.0980380314612 7.804671258178786,13.343526923063747 9.014933302454466,12.82665924728043 9.524928012742947,12.851102199754479 10.114814487354693,13.27725189864941 10.701031935273706,13.246917832894084 10.989593133191535,13.38732269943111 11.527803175511394,13.328980007373588 12.302071160540523,13.037189032437524 13.08398725754887,13.596147162322566 13.318701613018561,13.556356309457826 13.99535281744835,12.461565253138346 14.181336297266794,12.483656927943116 14.577177768622533,12.085360826053503 14.468192172918975,11.904751695193411 14.415378859116684,11.572368882692075 13.572949659894562,10.798565985553566 13.308676385153918,10.160362046748928 13.167599724997103,9.640626328973411 12.955467970438974,9.417771714714704 12.753671502339216,8.717762762888995 12.218872104550599,8.305824082874324 12.063946160539558,7.799808457872302 11.839308709366803,7.397042344589437 11.74577436691851,6.981382961449754 11.058787876030351,6.6444267846905944 10.497375115611419,7.0553577742755635 10.118276808318257,7.03876963950988 9.522705926154401,6.453482367372117 9.233162876023044,6.444490668153335 8.757532993208628,5.479665839047911 8.500287713259695,4.7719829370268485\" opacity=\"0.8\" /><polyline fill=\"none\" stroke=\"#66cc99\" stroke-width=\"0.46167433154481574\" points=\"1.8652405127123188,6.142157701029731 1.0601216976049272,5.928837388528876 0.8369311865363329,6.279978745952149 0.5703841487748491,6.914358628767189 0.4909574723422451,7.411744289576475 0.7120292496868785,8.31246450442383 0.46119184734212126,8.677222601756014 0.3659005061958851,9.465003973829482 0.3675799902453889,10.19121287682718 -0.04978471515994442,10.706917832883931 0.023802524423700785,11.018681748900804 0.8995630224740694,10.99733938236426 0.7723356461714843,10.470808213742359 1.0777950374487375,10.175606594275024 1.425060662450136,9.825395412633 1.46304284018467,9.334624335157088 1.664477573258381,9.12859039960938 1.618950636409238,6.832038072126238 1.8652405127123188,6.142157701029731\" opacity=\"0.8\" /></g></g></g></svg>"
      ],
      "text/plain": [
       "<shapely.geometry.collection.GeometryCollection at 0x10f698c18>"
      ]
     },
     "execution_count": 64,
     "metadata": {},
     "output_type": "execute_result"
    }
   ],
   "source": [
    "g_jc = geometry.MultiPoint(jo['junctions'])\n",
    "g_ls = geometry.MultiLineString([obj[~np.isnan(obj)[:,0]].tolist() for obj in jo['linestrings']])\n",
    "geometry.GeometryCollection([g_jc,g_ls])"
   ]
  },
  {
   "cell_type": "code",
   "execution_count": 65,
   "metadata": {},
   "outputs": [],
   "source": [
    "combs = select_unique_combs(ex['linestrings'])"
   ]
  },
  {
   "cell_type": "code",
   "execution_count": 66,
   "metadata": {},
   "outputs": [],
   "source": [
    "# make numpy array from coordinates of extracted linestrings\n",
    "arraylist = [np.array(g) for g in ex[\"linestrings\"]]\n",
    "# lengths of linestrings\n",
    "length_geoms = np.array([len(xy) for xy in arraylist])\n",
    "# currently fixed to solely 2D-coordinates\n",
    "no_dims = 2\n",
    "\n",
    "# define empty array with size no. linestrings * max. length linestrings * no. coordinates\n",
    "coord_arr = np.ones((len(arraylist), np.max(length_geoms), no_dims)) * np.nan\n",
    "# populate columns\n",
    "for i, c in enumerate(arraylist):\n",
    "    coord_arr[i, : len(c)] = c"
   ]
  },
  {
   "cell_type": "code",
   "execution_count": 67,
   "metadata": {},
   "outputs": [
    {
     "data": {
      "image/svg+xml": [
       "<svg xmlns=\"http://www.w3.org/2000/svg\" xmlns:xlink=\"http://www.w3.org/1999/xlink\" width=\"100.0\" height=\"100.0\" viewBox=\"-0.39753403156745326 5.448977272967063 16.993961157294436 18.71587155769204\" preserveAspectRatio=\"xMinYMin meet\"><g transform=\"matrix(1,0,0,-1,0,29.613826103626167)\"><g><polyline fill=\"none\" stroke=\"#66cc99\" stroke-width=\"0.3743174311538408\" points=\"2.6917016943562544,6.258817246928629 1.8652405127123188,6.142157701029731 1.618950636409238,6.832038072126238 1.664477573258381,9.12859039960938 1.46304284018467,9.334624335157088 1.425060662450136,9.825395412633 1.0777950374487375,10.175606594275024 0.7723356461714843,10.470808213742359 0.8995630224740694,10.99733938236426 1.2434696793764886,11.110510769083461 1.4471781754710662,11.547719224488858 1.9359855485198807,11.641150214072553 2.1544735042499212,11.940150051313339 2.49016360841793,12.233052069543675 2.848643019226671,12.235635891158267 3.611180454125559,11.660167141155968 3.572216424177469,11.32793935795152 3.7971122575117136,10.734745591673105 3.600070021182802,10.332186184119408 3.7054382666259187,10.063210354040208 3.2203515967021015,9.444152533399702 2.912308383810256,9.137607937044322 2.723792758809509,8.50684540448971 2.7490625342002204,7.870734361192888 2.6917016943562544,6.258817246928629\" opacity=\"0.8\" /><polyline fill=\"none\" stroke=\"#66cc99\" stroke-width=\"0.3743174311538408\" points=\"2.1544735042499497,11.940150051313424 2.177107781593918,12.625017808477537 1.024103224297619,12.851825669806601 0.993045688490156,13.335749620003867 0.42992760580551703,13.988733018443895 0.29564639649521496,14.444234930880668 0.374892205414767,14.928908189346146 1.0157833186984817,14.96818227788799 1.385528191746971,15.323561102759243 2.749992709981541,15.409524847876753 3.638258904646591,15.568119818580442 3.723421665063597,16.184283759012658 4.270209995143887,16.852227484601315 4.267419467800096,19.155265204337127 5.677565952180714,19.6012069767998 8.57289310062987,21.56566071215923 11.9995056494717,23.471668402596435 13.581424594790462,23.04050608976928 14.143870883855243,22.491288967371133 14.851300000000037,22.862950000000126 15.096887648181848,21.30851878507491 15.471076694407316,21.048457139565983 15.487148064850146,20.730414537025638 15.903246697664315,20.387618923417506 15.685740594147774,19.957180080642388 15.30044111497972,17.927949937405003 15.247731154041844,16.627305813050782 13.972201775781684,15.684365953021143 13.540393507550789,14.367133693901224 13.956698846094127,13.996691189016929 13.95447675950561,13.353448798063766 14.595781284247607,13.33042694747786 14.495787387762903,12.859396267137356 14.21353071458475,12.802035427293333 14.18133629726691,12.483656927943173 13.995352817448293,12.461565253138303 13.318701613018561,13.556356309457954 13.083987257548813,13.596147162322495 12.30207116054055,13.037189032437539 11.527803175511508,13.32898000737356 10.989593133191534,13.387322699431195 10.701031935273818,13.246917832894042 10.11481448735475,13.277251898649467 9.52492801274309,12.851102199754564 9.014933302454438,12.826659247280418 7.804671258178871,13.343526923063735 7.3307466976300475,13.098038031461215 6.820441928747812,13.115091254117601 6.4454260596057225,13.492768459522722 5.443058302440136,13.865923977102227 4.368343540066007,13.747481594289411 4.107945997747379,13.531215725147945 3.967282749048934,12.956108710171577 3.6806335791259244,12.55290334721417 3.611180454125588,11.660167141155966 2.8486430192265857,12.23563589115821 2.4901636084180154,12.23305206954359 2.1544735042499497,11.940150051313424\" opacity=\"0.8\" /></g></g></svg>"
      ],
      "text/plain": [
       "<shapely.geometry.multilinestring.MultiLineString at 0x10f698a20>"
      ]
     },
     "execution_count": 67,
     "metadata": {},
     "output_type": "execute_result"
    }
   ],
   "source": [
    "geometry.MultiLineString([ex[\"linestrings\"][0], ex[\"linestrings\"][2]]) #, ex[\"linestrings\"][1]"
   ]
  },
  {
   "cell_type": "code",
   "execution_count": 68,
   "metadata": {},
   "outputs": [],
   "source": [
    "shared_geoms = [0,2]\n",
    "idx_geom = [0]"
   ]
  },
  {
   "cell_type": "code",
   "execution_count": 69,
   "metadata": {},
   "outputs": [],
   "source": [
    "# get geoms that are rings\n",
    "first_xy_rows = coord_arr[shared_geoms,0]\n",
    "last_xy_rows = coord_arr[:,length_geoms-1][shared_geoms]\n",
    "last_xy_rows = last_xy_rows.diagonal(axis1=0, axis2=1).T\n",
    "rows_ring = (np.count_nonzero((first_xy_rows == last_xy_rows), axis=1) == no_dims).nonzero()[0]\n",
    "\n",
    "# for geoms that are rings, set first coord to np.nan\n",
    "# since its equal to the last coord of rings\n",
    "#coord_arr[:,0][rows_ring] = np.nan"
   ]
  },
  {
   "cell_type": "code",
   "execution_count": 70,
   "metadata": {},
   "outputs": [],
   "source": [
    "# create boolean of shared coords for each geom\n",
    "slice_array = np.count_nonzero(\n",
    "    np.isclose(coord_arr[shared_geoms], coord_arr[idx_geom], atol), \n",
    "    axis=2) == no_dims"
   ]
  },
  {
   "cell_type": "code",
   "execution_count": 71,
   "metadata": {},
   "outputs": [
    {
     "data": {
      "text/plain": [
       "array([[ True,  True,  True,  True,  True,  True,  True,  True,  True,\n",
       "         True,  True,  True,  True,  True,  True,  True,  True,  True,\n",
       "         True,  True,  True,  True,  True,  True,  True, False, False,\n",
       "        False, False, False, False, False, False, False, False, False,\n",
       "        False, False, False, False, False, False, False, False, False,\n",
       "        False, False, False, False, False, False, False, False, False,\n",
       "        False, False, False, False],\n",
       "       [False, False, False, False, False, False, False, False, False,\n",
       "        False, False, False, False, False, False, False, False, False,\n",
       "        False, False, False, False, False, False, False, False, False,\n",
       "        False, False, False, False, False, False, False, False, False,\n",
       "        False, False, False, False, False, False, False, False, False,\n",
       "        False, False, False, False, False, False, False, False, False,\n",
       "        False, False, False, False]])"
      ]
     },
     "execution_count": 71,
     "metadata": {},
     "output_type": "execute_result"
    }
   ],
   "source": [
    "slice_array"
   ]
  },
  {
   "cell_type": "code",
   "execution_count": 40,
   "metadata": {},
   "outputs": [],
   "source": [
    "# for geoms that are rings, set first coord to np.nan\n",
    "# since its equal to the last coord of rings\n",
    "slice_array[rows_ring,0] = False"
   ]
  },
  {
   "cell_type": "code",
   "execution_count": 41,
   "metadata": {},
   "outputs": [],
   "source": [
    "d = np.diff(slice_array)\n",
    "row, col, = d.nonzero()\n",
    "row = row.astype(float)\n",
    "col = col.astype(float)"
   ]
  },
  {
   "cell_type": "code",
   "execution_count": 42,
   "metadata": {},
   "outputs": [],
   "source": [
    "# for rings we compare the 2nd coord (ix 1) with the last coord\n",
    "rings_start_shared = slice_array[:, 1]\n",
    "rings_end_shared = slice_array[:,length_geoms-1]\n",
    "rings_end_shared = rings_end_shared.diagonal(axis1=0, axis2=1).T\n",
    "rings_start_end_shared = (rings_end_shared * rings_start_shared).nonzero()[0]"
   ]
  },
  {
   "cell_type": "code",
   "execution_count": 43,
   "metadata": {},
   "outputs": [],
   "source": [
    "col += 1\n",
    "\n",
    "# prepend a 0 for slice_array where start is True\n",
    "rows_first_true = np.isin(row, slice_array[:, 0].nonzero()[0])\n",
    "left_side_idx = np.unique(np.searchsorted(row, row, side=\"left\"))\n",
    "insert_idx_left = left_side_idx[rows_first_true[left_side_idx]]\n",
    "\n",
    "row = np.insert(row, insert_idx_left, row[insert_idx_left])\n",
    "col = np.insert(col, insert_idx_left, 0)\n",
    "\n",
    "# append length of max-1 for end of slice_array is True\n",
    "rows_last_true = np.isin(row, slice_array[:, -1].nonzero()[0])\n",
    "right_side_idx = np.unique(np.searchsorted(row, row, side=\"right\"))\n",
    "insert_idx_right = right_side_idx[rows_last_true[right_side_idx - 1]]\n",
    "\n",
    "row = np.insert(row, insert_idx_right, row[insert_idx_right - 1])\n",
    "col = np.insert(col, insert_idx_right, np.max(length_geoms) - 1)\n",
    "\n",
    "# from each segment subtract 1 from end idx, so we can slice in once\n",
    "col[1::2] -= 1"
   ]
  },
  {
   "cell_type": "code",
   "execution_count": 44,
   "metadata": {},
   "outputs": [],
   "source": [
    "# index of first element of each subsequence\n",
    "first_idx_first_segment_row = np.nonzero(np.r_[1, np.diff(row)[:-1]])[0]\n",
    "second_idx_last_segment_row = np.nonzero(np.r_[1, np.diff(row[::-1])[:-1]])[0]\n",
    "second_idx_last_segment_row = np.sort(((len(row)-1) - second_idx_last_segment_row))\n",
    "\n",
    "# if shared path pass 0-index, set first and last junction to nan, \n",
    "# first idx of first segment to nan of shared paths passing 0-index\n",
    "row_bool = np.full(row.shape, False, dtype=bool)\n",
    "row_bool[first_idx_first_segment_row] = True\n",
    "first_idx_to_nan = row_bool * (row == rings_start_end_shared)\n",
    "\n",
    "row[first_idx_to_nan] = np.nan\n",
    "col[first_idx_to_nan] = np.nan\n",
    "\n",
    "# last idx of last segment to nan of shared paths passing 0-index\n",
    "row_bool = np.full(row.shape, False, dtype=bool)\n",
    "row_bool[second_idx_last_segment_row] = True\n",
    "last_idx_to_nan = row_bool * (row == rings_start_end_shared)\n",
    "\n",
    "row[last_idx_to_nan] = np.nan\n",
    "col[last_idx_to_nan] = np.nan"
   ]
  },
  {
   "cell_type": "code",
   "execution_count": 45,
   "metadata": {},
   "outputs": [],
   "source": [
    "# calculate exact index of junctions for take function\n",
    "col_idx = np.array((col * 2, col * 2 + 1)).T\n",
    "row_idx = row * (np.max(length_geoms)) * 2\n",
    "take_idx = col_idx + row_idx[None].T\n",
    "take_idx = take_idx[~np.isnan(take_idx).any(axis=1)].astype(int)"
   ]
  },
  {
   "cell_type": "code",
   "execution_count": 46,
   "metadata": {},
   "outputs": [
    {
     "data": {
      "text/plain": [
       "array([], shape=(0, 2), dtype=int64)"
      ]
     },
     "execution_count": 46,
     "metadata": {},
     "output_type": "execute_result"
    }
   ],
   "source": [
    "take_idx"
   ]
  },
  {
   "cell_type": "code",
   "execution_count": 47,
   "metadata": {},
   "outputs": [
    {
     "ename": "ValueError",
     "evalue": "cannot reshape array of size 0 into shape (0,newaxis)",
     "output_type": "error",
     "traceback": [
      "\u001b[0;31m---------------------------------------------------------------------------\u001b[0m",
      "\u001b[0;31mValueError\u001b[0m                                Traceback (most recent call last)",
      "\u001b[0;32m<ipython-input-47-86533191c143>\u001b[0m in \u001b[0;36m<module>\u001b[0;34m()\u001b[0m\n\u001b[0;32m----> 1\u001b[0;31m \u001b[0mjunctions\u001b[0m \u001b[0;34m=\u001b[0m \u001b[0mnp\u001b[0m\u001b[0;34m.\u001b[0m\u001b[0munique\u001b[0m\u001b[0;34m(\u001b[0m\u001b[0mcoord_arr\u001b[0m\u001b[0;34m[\u001b[0m\u001b[0mshared_geoms\u001b[0m\u001b[0;34m]\u001b[0m\u001b[0;34m.\u001b[0m\u001b[0mtake\u001b[0m\u001b[0;34m(\u001b[0m\u001b[0mtake_idx\u001b[0m\u001b[0;34m)\u001b[0m\u001b[0;34m,\u001b[0m \u001b[0maxis\u001b[0m\u001b[0;34m=\u001b[0m\u001b[0;36m0\u001b[0m\u001b[0;34m)\u001b[0m\u001b[0;34m\u001b[0m\u001b[0;34m\u001b[0m\u001b[0m\n\u001b[0m",
      "\u001b[0;32m/usr/local/lib/python3.7/site-packages/numpy/lib/arraysetops.py\u001b[0m in \u001b[0;36munique\u001b[0;34m(ar, return_index, return_inverse, return_counts, axis)\u001b[0m\n\u001b[1;32m    243\u001b[0m     \u001b[0;31m# Must reshape to a contiguous 2D array for this to work...\u001b[0m\u001b[0;34m\u001b[0m\u001b[0;34m\u001b[0m\u001b[0;34m\u001b[0m\u001b[0m\n\u001b[1;32m    244\u001b[0m     \u001b[0morig_shape\u001b[0m\u001b[0;34m,\u001b[0m \u001b[0morig_dtype\u001b[0m \u001b[0;34m=\u001b[0m \u001b[0mar\u001b[0m\u001b[0;34m.\u001b[0m\u001b[0mshape\u001b[0m\u001b[0;34m,\u001b[0m \u001b[0mar\u001b[0m\u001b[0;34m.\u001b[0m\u001b[0mdtype\u001b[0m\u001b[0;34m\u001b[0m\u001b[0;34m\u001b[0m\u001b[0m\n\u001b[0;32m--> 245\u001b[0;31m     \u001b[0mar\u001b[0m \u001b[0;34m=\u001b[0m \u001b[0mar\u001b[0m\u001b[0;34m.\u001b[0m\u001b[0mreshape\u001b[0m\u001b[0;34m(\u001b[0m\u001b[0morig_shape\u001b[0m\u001b[0;34m[\u001b[0m\u001b[0;36m0\u001b[0m\u001b[0;34m]\u001b[0m\u001b[0;34m,\u001b[0m \u001b[0;34m-\u001b[0m\u001b[0;36m1\u001b[0m\u001b[0;34m)\u001b[0m\u001b[0;34m\u001b[0m\u001b[0;34m\u001b[0m\u001b[0m\n\u001b[0m\u001b[1;32m    246\u001b[0m     \u001b[0mar\u001b[0m \u001b[0;34m=\u001b[0m \u001b[0mnp\u001b[0m\u001b[0;34m.\u001b[0m\u001b[0mascontiguousarray\u001b[0m\u001b[0;34m(\u001b[0m\u001b[0mar\u001b[0m\u001b[0;34m)\u001b[0m\u001b[0;34m\u001b[0m\u001b[0;34m\u001b[0m\u001b[0m\n\u001b[1;32m    247\u001b[0m     \u001b[0mdtype\u001b[0m \u001b[0;34m=\u001b[0m \u001b[0;34m[\u001b[0m\u001b[0;34m(\u001b[0m\u001b[0;34m'f{i}'\u001b[0m\u001b[0;34m.\u001b[0m\u001b[0mformat\u001b[0m\u001b[0;34m(\u001b[0m\u001b[0mi\u001b[0m\u001b[0;34m=\u001b[0m\u001b[0mi\u001b[0m\u001b[0;34m)\u001b[0m\u001b[0;34m,\u001b[0m \u001b[0mar\u001b[0m\u001b[0;34m.\u001b[0m\u001b[0mdtype\u001b[0m\u001b[0;34m)\u001b[0m \u001b[0;32mfor\u001b[0m \u001b[0mi\u001b[0m \u001b[0;32min\u001b[0m \u001b[0mrange\u001b[0m\u001b[0;34m(\u001b[0m\u001b[0mar\u001b[0m\u001b[0;34m.\u001b[0m\u001b[0mshape\u001b[0m\u001b[0;34m[\u001b[0m\u001b[0;36m1\u001b[0m\u001b[0;34m]\u001b[0m\u001b[0;34m)\u001b[0m\u001b[0;34m]\u001b[0m\u001b[0;34m\u001b[0m\u001b[0;34m\u001b[0m\u001b[0m\n",
      "\u001b[0;31mValueError\u001b[0m: cannot reshape array of size 0 into shape (0,newaxis)"
     ]
    }
   ],
   "source": [
    "junctions = np.unique(coord_arr[shared_geoms].take(take_idx), axis=0)"
   ]
  },
  {
   "cell_type": "code",
   "execution_count": 25,
   "metadata": {},
   "outputs": [
    {
     "data": {
      "text/plain": [
       "array([[ 0.89956302, 10.99733938],\n",
       "       [ 2.1544735 , 11.94015005]])"
      ]
     },
     "execution_count": 25,
     "metadata": {},
     "output_type": "execute_result"
    }
   ],
   "source": [
    "junctions"
   ]
  },
  {
   "cell_type": "code",
   "execution_count": 26,
   "metadata": {},
   "outputs": [
    {
     "data": {
      "image/svg+xml": [
       "<svg xmlns=\"http://www.w3.org/2000/svg\" xmlns:xlink=\"http://www.w3.org/1999/xlink\" width=\"100.0\" height=\"100.0\" viewBox=\"-6.325517413752738 5.073884922705144 23.083716577240786 19.252735945715024\" preserveAspectRatio=\"xMinYMin meet\"><g transform=\"matrix(1,0,0,-1,0,29.400505791125312)\"><g><g><circle cx=\"0.8995630224740694\" cy=\"10.99733938236426\" r=\"0.6925114973172236\" stroke=\"#555555\" stroke-width=\"0.23083716577240787\" fill=\"#66cc99\" opacity=\"0.6\" /><circle cx=\"2.1544735042499212\" cy=\"11.940150051313339\" r=\"0.6925114973172236\" stroke=\"#555555\" stroke-width=\"0.23083716577240787\" fill=\"#66cc99\" opacity=\"0.6\" /></g><g><polyline fill=\"none\" stroke=\"#66cc99\" stroke-width=\"0.46167433154481574\" points=\"2.6917016943562544,6.258817246928629 1.8652405127123188,6.142157701029731 1.618950636409238,6.832038072126238 1.664477573258381,9.12859039960938 1.46304284018467,9.334624335157088 1.425060662450136,9.825395412633 1.0777950374487375,10.175606594275024 0.7723356461714843,10.470808213742359 0.8995630224740694,10.99733938236426 1.2434696793764886,11.110510769083461 1.4471781754710662,11.547719224488858 1.9359855485198807,11.641150214072553 2.1544735042499212,11.940150051313339 2.49016360841793,12.233052069543675 2.848643019226671,12.235635891158267 3.611180454125559,11.660167141155968 3.572216424177469,11.32793935795152 3.7971122575117136,10.734745591673105 3.600070021182802,10.332186184119408 3.7054382666259187,10.063210354040208 3.2203515967021015,9.444152533399702 2.912308383810256,9.137607937044322 2.723792758809509,8.50684540448971 2.7490625342002204,7.870734361192888 2.6917016943562544,6.258817246928629\" opacity=\"0.8\" /><polyline fill=\"none\" stroke=\"#66cc99\" stroke-width=\"0.46167433154481574\" points=\"-2.8274963037127065,9.642460842319778 -3.511898972986273,9.90032623945622 -3.9804491845766847,9.8623440617217 -4.3302469547603835,9.610834865757141 -4.7798835921319665,9.821984768101743 -4.954653286143099,10.152713934769736 -5.404341599946974,10.370736802609146 -5.470564947929006,10.951269842976048 -5.1978425765086484,11.37514577885014 -5.220941941743121,11.713858954307227 -4.427166103523803,12.542645575404295 -4.28040503581488,13.228443508349741 -4.006390753587226,13.472485459848116 -3.522802700199861,13.337661647998615 -3.1037068343127596,13.541266791228594 -2.9676944645205765,13.79815033615151 -2.1918245100903846,14.246417548067356 -2.001035122068771,14.559008287000893 -1.0663634912056636,14.973815009007765 -0.5158544580003479,15.116157741755728 -0.2662572900305804,14.924308986872148 0.3748922054146817,14.92890818934613 0.29564639649510127,14.444234930880654 0.429927605805517,13.988733018443924 0.9930456884900708,13.335749620003824 1.0241032242974768,12.851825669806574 2.177107781593776,12.625017808477535 2.1544735042499212,11.940150051313339 1.9359855485198807,11.641150214072553 1.4471781754710662,11.547719224488858 1.2434696793764886,11.110510769083461 0.8995630224740694,10.99733938236426 0.023802524423700785,11.018681748900804 -0.43870154458858224,11.098340969278722 -0.7615758935481834,10.936929633015055 -1.2033577132114317,11.009819240762738 -2.9404093082704605,10.962690334512558 -2.9638962467471117,10.395334784380083 -2.8274963037127065,9.642460842319778\" opacity=\"0.8\" /><polyline fill=\"none\" stroke=\"#66cc99\" stroke-width=\"0.46167433154481574\" points=\"2.1544735042499497,11.940150051313424 2.177107781593918,12.625017808477537 1.024103224297619,12.851825669806601 0.993045688490156,13.335749620003867 0.42992760580551703,13.988733018443895 0.29564639649521496,14.444234930880668 0.374892205414767,14.928908189346146 1.0157833186984817,14.96818227788799 1.385528191746971,15.323561102759243 2.749992709981541,15.409524847876753 3.638258904646591,15.568119818580442 3.723421665063597,16.184283759012658 4.270209995143887,16.852227484601315 4.267419467800096,19.155265204337127 5.677565952180714,19.6012069767998 8.57289310062987,21.56566071215923 11.9995056494717,23.471668402596435 13.581424594790462,23.04050608976928 14.143870883855243,22.491288967371133 14.851300000000037,22.862950000000126 15.096887648181848,21.30851878507491 15.471076694407316,21.048457139565983 15.487148064850146,20.730414537025638 15.903246697664315,20.387618923417506 15.685740594147774,19.957180080642388 15.30044111497972,17.927949937405003 15.247731154041844,16.627305813050782 13.972201775781684,15.684365953021143 13.540393507550789,14.367133693901224 13.956698846094127,13.996691189016929 13.95447675950561,13.353448798063766 14.595781284247607,13.33042694747786 14.495787387762903,12.859396267137356 14.21353071458475,12.802035427293333 14.18133629726691,12.483656927943173 13.995352817448293,12.461565253138303 13.318701613018561,13.556356309457954 13.083987257548813,13.596147162322495 12.30207116054055,13.037189032437539 11.527803175511508,13.32898000737356 10.989593133191534,13.387322699431195 10.701031935273818,13.246917832894042 10.11481448735475,13.277251898649467 9.52492801274309,12.851102199754564 9.014933302454438,12.826659247280418 7.804671258178871,13.343526923063735 7.3307466976300475,13.098038031461215 6.820441928747812,13.115091254117601 6.4454260596057225,13.492768459522722 5.443058302440136,13.865923977102227 4.368343540066007,13.747481594289411 4.107945997747379,13.531215725147945 3.967282749048934,12.956108710171577 3.6806335791259244,12.55290334721417 3.611180454125588,11.660167141155966 2.8486430192265857,12.23563589115821 2.4901636084180154,12.23305206954359 2.1544735042499497,11.940150051313424\" opacity=\"0.8\" /><polyline fill=\"none\" stroke=\"#66cc99\" stroke-width=\"0.46167433154481574\" points=\"1.8652405127123188,6.142157701029731 1.0601216976049272,5.928837388528876 0.8369311865363329,6.279978745952149 0.5703841487748491,6.914358628767189 0.4909574723422451,7.411744289576475 0.7120292496868785,8.31246450442383 0.46119184734212126,8.677222601756014 0.3659005061958851,9.465003973829482 0.3675799902453889,10.19121287682718 -0.04978471515994442,10.706917832883931 0.023802524423700785,11.018681748900804 0.8995630224740694,10.99733938236426 0.7723356461714843,10.470808213742359 1.0777950374487375,10.175606594275024 1.425060662450136,9.825395412633 1.46304284018467,9.334624335157088 1.664477573258381,9.12859039960938 1.618950636409238,6.832038072126238 1.8652405127123188,6.142157701029731\" opacity=\"0.8\" /></g></g></g></svg>"
      ],
      "text/plain": [
       "<shapely.geometry.collection.GeometryCollection at 0x10f676588>"
      ]
     },
     "execution_count": 26,
     "metadata": {},
     "output_type": "execute_result"
    }
   ],
   "source": [
    "g_jc = geometry.MultiPoint(junctions)#jo['junctions'])\n",
    "g_ls = geometry.MultiLineString([obj[~np.isnan(obj)[:,0]].tolist() for obj in coord_arr])#jo['linestrings']])\n",
    "geometry.GeometryCollection([g_jc,g_ls])"
   ]
  },
  {
   "cell_type": "code",
   "execution_count": null,
   "metadata": {},
   "outputs": [],
   "source": [
    "# where geoms are rings and first and last coordinate are shared\n",
    "# remove the junction in the end of the geom so a shared-path\n",
    "# crossing the zero-index is preserved\n",
    "\n",
    "# get geoms that are rings\n",
    "first_xy_rows = coord_arr[:,0,:]\n",
    "last_xy_rows = coord_arr[:,length_geoms-1,:]\n",
    "last_xy_rows = last_xy_rows.diagonal(axis1=0, axis2=1).T\n",
    "rows_ring = ((first_xy_rows == last_xy_rows).sum(axis=1) == 2).nonzero()[0]\n",
    "\n",
    "# get rows where first and last coords are shared\n",
    "rows_start_shared = slice_array[:, 0].nonzero()[0]\n",
    "rows_end_shared = slice_array[range(slice_array.shape[0]), length_geoms - 1].nonzero()[0]\n",
    "\n",
    "# get rings where first and last coords are shared\n",
    "rings_start_shared = rows_start_shared[np.isin(rows_start_shared, rows_ring)]\n",
    "rings_end_shared = rows_end_shared[np.isin(rows_end_shared, rows_ring)]\n",
    "rings_start_end_shared = rows_end_shared[rows_end_shared == rings_start_shared]\n",
    "\n",
    "# set last coord of rings to False where first and last coord is shared\n",
    "length_geoms2 = length_geoms.copy()\n",
    "length_geoms2[length_geoms == length_geoms.max()] -= 1\n",
    "length_geoms2 = length_geoms2[rings_start_end_shared]\n",
    "diag_to_false = d[rings_start_end_shared[None].T,length_geoms2 - 1]\n",
    "\n",
    "np.fill_diagonal(diag_to_false, False)\n",
    "d[rings_start_end_shared[None].T,length_geoms2 - 1] = diag_to_false\n",
    "\n",
    "row, col, = d.nonzero()\n",
    "#row, col"
   ]
  },
  {
   "cell_type": "code",
   "execution_count": null,
   "metadata": {},
   "outputs": [],
   "source": [
    "col += 1\n",
    "# geoms were last coordinates end with True should not get +1, do -1\n",
    "rows_xy_end_true = np.isin(row, rows_end_shared)\n",
    "col[rows_xy_end_true] -= 1\n",
    "#col"
   ]
  },
  {
   "cell_type": "code",
   "execution_count": null,
   "metadata": {},
   "outputs": [],
   "source": [
    "col[1::2] -= 1\n",
    "#col"
   ]
  },
  {
   "cell_type": "code",
   "execution_count": null,
   "metadata": {},
   "outputs": [],
   "source": [
    "# calculate exact index of junctions for take function\n",
    "col_idx = np.array((col * 2, col * 2 + 1)).T\n",
    "row_idx = row * (np.max(length_geoms)) * 2\n",
    "take_idx = col_idx + row_idx[None].T\n",
    "#take_idx"
   ]
  },
  {
   "cell_type": "code",
   "execution_count": null,
   "metadata": {},
   "outputs": [],
   "source": [
    "#coord_arr.take(take_idx)"
   ]
  },
  {
   "cell_type": "code",
   "execution_count": null,
   "metadata": {},
   "outputs": [],
   "source": [
    "junctions = np.unique(coord_arr.take(take_idx), axis=0)\n",
    "junctions = junctions[np.isin(junctions, coord_arr[idx_geom])[:,0]]"
   ]
  },
  {
   "cell_type": "code",
   "execution_count": null,
   "metadata": {},
   "outputs": [],
   "source": []
  },
  {
   "cell_type": "code",
   "execution_count": null,
   "metadata": {},
   "outputs": [],
   "source": [
    "# col += 1\n",
    "# # geoms were last coordinates end with True should not get +1, do -1\n",
    "# rows_xy_end_true = np.isin(row, rows_end_shared)\n",
    "# col[rows_xy_end_true] -= 1\n",
    "\n",
    "\n",
    "# # prepend a 0 for slice_array where start is True\n",
    "# rows_first_true = np.isin(row, slice_array[:, 0].nonzero()[0])\n",
    "# left_side_idx = np.unique(np.searchsorted(row, row, side=\"left\"))\n",
    "# insert_idx_left = left_side_idx[rows_first_true[left_side_idx]]\n",
    "\n",
    "# row = np.insert(row, insert_idx_left, row[insert_idx_left])\n",
    "# col = np.insert(col, insert_idx_left, 0)\n",
    "\n",
    "# # append length of max-1 for end of slice_array is True\n",
    "# rows_last_true = np.isin(row, slice_array[:, -1].nonzero()[0])\n",
    "# right_side_idx = np.unique(np.searchsorted(row, row, side=\"right\"))\n",
    "# insert_idx_right = right_side_idx[rows_last_true[right_side_idx - 1]]\n",
    "\n",
    "# row = np.insert(row, insert_idx_right, row[insert_idx_right - 1])\n",
    "# col = np.insert(col, insert_idx_right, np.max(length_geoms) - 1)\n",
    "# #col[1::2] -= 1\n",
    "\n",
    "# # calculate exact index of junctions for take function\n",
    "# col_idx = np.array((col * 2, col * 2 + 1)).T\n",
    "# row_idx = row * (np.max(length_geoms)) * 2\n",
    "# take_idx = col_idx + row_idx[None].T"
   ]
  },
  {
   "cell_type": "code",
   "execution_count": null,
   "metadata": {},
   "outputs": [],
   "source": [
    "# junctions = np.unique(coord_arr.take(take_idx), axis=0)\n",
    "# #np.unique(junctions, axis=0)"
   ]
  },
  {
   "cell_type": "code",
   "execution_count": null,
   "metadata": {},
   "outputs": [],
   "source": [
    "# jo = topojson.join(ex)"
   ]
  },
  {
   "cell_type": "code",
   "execution_count": null,
   "metadata": {},
   "outputs": [],
   "source": [
    "# jc = junctions#jo['junctions']"
   ]
  },
  {
   "cell_type": "code",
   "execution_count": null,
   "metadata": {},
   "outputs": [],
   "source": []
  },
  {
   "cell_type": "code",
   "execution_count": null,
   "metadata": {},
   "outputs": [],
   "source": [
    "g_jc = geometry.MultiPoint(junctions)#jo['junctions'])\n",
    "g_ls = geometry.MultiLineString([obj[~np.isnan(obj)[:,0]].tolist() for obj in coord_arr])#jo['linestrings']])\n",
    "geometry.GeometryCollection([g_jc,g_ls])"
   ]
  },
  {
   "cell_type": "code",
   "execution_count": null,
   "metadata": {},
   "outputs": [],
   "source": [
    "# in idx_geom 0 is still 1 mistake. "
   ]
  },
  {
   "cell_type": "code",
   "execution_count": null,
   "metadata": {},
   "outputs": [],
   "source": [
    "geometry.GeometryCollection([g_jc,g_ls])"
   ]
  },
  {
   "cell_type": "code",
   "execution_count": null,
   "metadata": {},
   "outputs": [],
   "source": [
    "np.isin(ls_xy, jc).sum(axis=2)"
   ]
  },
  {
   "cell_type": "code",
   "execution_count": null,
   "metadata": {},
   "outputs": [],
   "source": [
    "ls_xy = jo['linestrings']\n",
    "ls_xy_roll = np.roll(ls_xy, 1, axis=1)"
   ]
  },
  {
   "cell_type": "code",
   "execution_count": null,
   "metadata": {},
   "outputs": [],
   "source": [
    "eucl_dist = np.sqrt(\n",
    "    (ls_xy_roll[:, :, 0] - ls_xy[:, :, 0]) ** 2 + (ls_xy_roll[:, :, 1] - ls_xy[:, :, 1]) ** 2\n",
    ")\n",
    "eucl_dist[:,0] = 0\n",
    "ls_cumsum = eucl_dist.cumsum(axis=0)"
   ]
  },
  {
   "cell_type": "code",
   "execution_count": null,
   "metadata": {},
   "outputs": [],
   "source": [
    "# make numpy array from coordinates of extracted linestrings\n",
    "arraylist = [np.array(g) for g in ex['linestrings']]\n",
    "# lengths of linestrings\n",
    "length_geoms = np.array([len(xy) for xy in arraylist])"
   ]
  },
  {
   "cell_type": "code",
   "execution_count": null,
   "metadata": {},
   "outputs": [],
   "source": [
    "# define empty array with size no. linestrings * max. length linestrings * no. coordinates\n",
    "coord_arr = np.ones((len(arraylist), np.max(length_geoms), 2))*np.nan \n",
    "# populate columns\n",
    "for i, c in enumerate(arraylist):  \n",
    "    coord_arr[i, :len(c)] = c"
   ]
  },
  {
   "cell_type": "code",
   "execution_count": null,
   "metadata": {},
   "outputs": [],
   "source": [
    "junctions_list = []\n",
    "for val in combs:\n",
    "    idx_geom = val[0]\n",
    "    shared_geoms = val[1]\n",
    "    junctions = junctions_shared_paths(coord_arr, idx_geom, shared_geoms, length_geoms)\n",
    "    junctions_list.extend([junctions])\n",
    "    \n",
    "#unique_junctions = np.unique(np.array(junctions_list), axis=0)    "
   ]
  },
  {
   "cell_type": "code",
   "execution_count": null,
   "metadata": {},
   "outputs": [],
   "source": [
    "unique_junctions"
   ]
  },
  {
   "cell_type": "code",
   "execution_count": null,
   "metadata": {},
   "outputs": [],
   "source": [
    "length_geom2 = np.array([len(xy) for xy in junctions_list])\n",
    "len(junctions_list)\n",
    "coord_ar2 = np.ones((len(junctions_list), np.max(length_geom2), 2))*np.nan \n",
    "# populate columns\n",
    "for i, c in enumerate(junctions_list):  \n",
    "    coord_ar2[i, :len(c)] = c"
   ]
  },
  {
   "cell_type": "code",
   "execution_count": null,
   "metadata": {},
   "outputs": [],
   "source": [
    "coord_ar2"
   ]
  },
  {
   "cell_type": "code",
   "execution_count": null,
   "metadata": {},
   "outputs": [],
   "source": [
    "np.unique(coord_ar2, )"
   ]
  },
  {
   "cell_type": "code",
   "execution_count": null,
   "metadata": {},
   "outputs": [],
   "source": []
  }
 ],
 "metadata": {
  "kernelspec": {
   "display_name": "Python 3",
   "language": "python",
   "name": "python3"
  },
  "language_info": {
   "codemirror_mode": {
    "name": "ipython",
    "version": 3
   },
   "file_extension": ".py",
   "mimetype": "text/x-python",
   "name": "python",
   "nbconvert_exporter": "python",
   "pygments_lexer": "ipython3",
   "version": "3.7.2"
  }
 },
 "nbformat": 4,
 "nbformat_minor": 2
}
