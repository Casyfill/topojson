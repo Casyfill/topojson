{
 "cells": [
  {
   "cell_type": "code",
   "execution_count": 51,
   "metadata": {},
   "outputs": [],
   "source": [
    "import os\n",
    "import geopandas\n",
    "\n",
    "import json\n",
    "import topojson\n",
    "\n",
    "from IPython.display import SVG, display\n",
    "from shapely import geometry\n",
    "%matplotlib inline"
   ]
  },
  {
   "cell_type": "markdown",
   "metadata": {},
   "source": [
    "### natural earth low resolution"
   ]
  },
  {
   "cell_type": "code",
   "execution_count": 52,
   "metadata": {},
   "outputs": [
    {
     "data": {
      "text/html": [
       "<div>\n",
       "<style scoped>\n",
       "    .dataframe tbody tr th:only-of-type {\n",
       "        vertical-align: middle;\n",
       "    }\n",
       "\n",
       "    .dataframe tbody tr th {\n",
       "        vertical-align: top;\n",
       "    }\n",
       "\n",
       "    .dataframe thead th {\n",
       "        text-align: right;\n",
       "    }\n",
       "</style>\n",
       "<table border=\"1\" class=\"dataframe\">\n",
       "  <thead>\n",
       "    <tr style=\"text-align: right;\">\n",
       "      <th></th>\n",
       "      <th>pop_est</th>\n",
       "      <th>continent</th>\n",
       "      <th>name</th>\n",
       "      <th>iso_a3</th>\n",
       "      <th>gdp_md_est</th>\n",
       "      <th>geometry</th>\n",
       "    </tr>\n",
       "  </thead>\n",
       "  <tbody>\n",
       "    <tr>\n",
       "      <th>92</th>\n",
       "      <td>3441790.0</td>\n",
       "      <td>Africa</td>\n",
       "      <td>Liberia</td>\n",
       "      <td>LBR</td>\n",
       "      <td>1526.0</td>\n",
       "      <td>POLYGON ((-7.71215938966975 4.364565944837722,...</td>\n",
       "    </tr>\n",
       "    <tr>\n",
       "      <th>139</th>\n",
       "      <td>25946220.0</td>\n",
       "      <td>Africa</td>\n",
       "      <td>Sudan</td>\n",
       "      <td>SDN</td>\n",
       "      <td>88080.0</td>\n",
       "      <td>POLYGON ((33.96339279497118 9.464285229420625,...</td>\n",
       "    </tr>\n",
       "  </tbody>\n",
       "</table>\n",
       "</div>"
      ],
      "text/plain": [
       "        pop_est continent     name iso_a3  gdp_md_est  \\\n",
       "92    3441790.0    Africa  Liberia    LBR      1526.0   \n",
       "139  25946220.0    Africa    Sudan    SDN     88080.0   \n",
       "\n",
       "                                              geometry  \n",
       "92   POLYGON ((-7.71215938966975 4.364565944837722,...  \n",
       "139  POLYGON ((33.96339279497118 9.464285229420625,...  "
      ]
     },
     "execution_count": 52,
     "metadata": {},
     "output_type": "execute_result"
    },
    {
     "data": {
      "image/png": "[encoded data removed]",
      "text/plain": [
       "<Figure size 432x288 with 1 Axes>"
      ]
     },
     "metadata": {
      "needs_background": "light"
     },
     "output_type": "display_data"
    }
   ],
   "source": [
    "data = geopandas.read_file(geopandas.datasets.get_path(\"naturalearth_lowres\"))\n",
    "data = data[(data.name == \"Liberia\") | (data.name == \"Sudan\")]\n",
    "data.plot()\n",
    "data.head()"
   ]
  },
  {
   "cell_type": "code",
   "execution_count": 53,
   "metadata": {},
   "outputs": [
    {
     "data": {
      "text/plain": [
       "{'type': 'Topology',\n",
       " 'objects': {'data': {'geometries': [{'id': '92',\n",
       "     'type': 'Polygon',\n",
       "     'properties': {'pop_est': 3441790.0,\n",
       "      'continent': 'Africa',\n",
       "      'name': 'Liberia',\n",
       "      'iso_a3': 'LBR',\n",
       "      'gdp_md_est': 1526.0},\n",
       "     'bbox': (-11.438779466182055,\n",
       "      4.355755113131963,\n",
       "      -7.539715135111763,\n",
       "      8.541055202666925),\n",
       "     'arcs': [[0]]},\n",
       "    {'id': '139',\n",
       "     'type': 'Polygon',\n",
       "     'properties': {'pop_est': 25946220.0,\n",
       "      'continent': 'Africa',\n",
       "      'name': 'Sudan',\n",
       "      'iso_a3': 'SDN',\n",
       "      'gdp_md_est': 88080.0},\n",
       "     'bbox': (21.93680999999998, 8.619729712933065, 38.410089959473225, 22.0),\n",
       "     'arcs': [[1]]}],\n",
       "   'type': 'GeometryCollection'}},\n",
       " 'transform': {'scale': [4.984891927457455e-05, 1.764426253113057e-05],\n",
       "  'translate': [-11.438779466182055, 4.355755113131963]},\n",
       " 'arcs': [[[74758, 499],\n",
       "   [-5255, -499],\n",
       "   [-20676, 27015],\n",
       "   [-18227, 43138],\n",
       "   [-17091, 31011],\n",
       "   [-13509, 36567],\n",
       "   [4794, 18132],\n",
       "   [1065, 16485],\n",
       "   [9050, 30761],\n",
       "   [9338, 26453],\n",
       "   [4283, 1264],\n",
       "   [5241, 6379],\n",
       "   [8386, -34715],\n",
       "   [-1325, -22763],\n",
       "   [3903, -12071],\n",
       "   [5672, -277],\n",
       "   [4091, 22820],\n",
       "   [5673, -1453],\n",
       "   [-925, -16483],\n",
       "   [2006, -27397],\n",
       "   [-4362, -25178],\n",
       "   [5848, -15559],\n",
       "   [6373, -3788],\n",
       "   [8496, -23738],\n",
       "   [611, -22331],\n",
       "   [-1919, -7095],\n",
       "   [-1541, -46678]],\n",
       "  [[910796, 289529],\n",
       "   [-2777, 1121],\n",
       "   [344, 28216],\n",
       "   [-2411, 19460],\n",
       "   [-10331, 22378],\n",
       "   [-2411, 40865],\n",
       "   [2411, 41838],\n",
       "   [-9299, 3892],\n",
       "   [-1377, -12649],\n",
       "   [-12054, -2919],\n",
       "   [4821, -16541],\n",
       "   [1722, -34054],\n",
       "   [-11020, -31135],\n",
       "   [-9987, -40864],\n",
       "   [-10332, -5838],\n",
       "   [-16875, 33081],\n",
       "   [-7577, -11676],\n",
       "   [-2066, -16540],\n",
       "   [-10332, -10703],\n",
       "   [-688, -11676],\n",
       "   [-19975, 0],\n",
       "   [-2755, 11676],\n",
       "   [-14464, 1946],\n",
       "   [-7232, -9730],\n",
       "   [-5511, 4865],\n",
       "   [-10331, 33081],\n",
       "   [-3444, 15568],\n",
       "   [-14464, -7784],\n",
       "   [-5511, -26270],\n",
       "   [-5165, -50595],\n",
       "   [-6888, -10703],\n",
       "   [-6161, -6175],\n",
       "   [-1628, 2640],\n",
       "   [-6957, 16321],\n",
       "   [-1288, 17613],\n",
       "   [3259, 23586],\n",
       "   [-59, 23126],\n",
       "   [-11570, 35434],\n",
       "   [-2275, 24253],\n",
       "   [242, 13728],\n",
       "   [-7373, 16705],\n",
       "   [-222, 32922],\n",
       "   [-4205, 21866],\n",
       "   [-7045, -3280],\n",
       "   [2022, 20816],\n",
       "   [5195, 23626],\n",
       "   [-2273, 23472],\n",
       "   [6595, 17383],\n",
       "   [-4183, 13242],\n",
       "   [5305, 34995],\n",
       "   [9160, 41738],\n",
       "   [17299, -3961],\n",
       "   [-988, 224982],\n",
       "   [248, 23777],\n",
       "   [23069, 172],\n",
       "   [0, 113179],\n",
       "   [238044, 0],\n",
       "   [6470, -55607],\n",
       "   [-4400, -10282],\n",
       "   [2915, -58346],\n",
       "   [7364, -67664],\n",
       "   [7642, -13955],\n",
       "   [10980, -20945],\n",
       "   [-10152, -32348],\n",
       "   [-14776, -9318],\n",
       "   [-6318, -17376],\n",
       "   [-1978, -37672],\n",
       "   [-8640, -83277],\n",
       "   [2132, -22692],\n",
       "   [-3195, -48672],\n",
       "   [-8157, -55828],\n",
       "   [-12099, -28078],\n",
       "   [-8603, -43295],\n",
       "   [-2016, -23168],\n",
       "   [-9503, -15874],\n",
       "   [-5934, -59312],\n",
       "   [36, -6761]]]}"
      ]
     },
     "execution_count": 53,
     "metadata": {},
     "output_type": "execute_result"
    }
   ],
   "source": [
    "topojson.topology(data)"
   ]
  },
  {
   "cell_type": "code",
   "execution_count": 3,
   "metadata": {},
   "outputs": [],
   "source": [
    "# present timing split out in the different subtasks\n",
    "ex = topojson.extract(data)\n",
    "jo = topojson.join(ex, quant_factor=None)\n",
    "cu = topojson.cut(jo)"
   ]
  },
  {
   "cell_type": "code",
   "execution_count": 4,
   "metadata": {},
   "outputs": [
    {
     "data": {
      "text/plain": [
       "{'type': 'Topology',\n",
       " 'linestrings': [<shapely.geometry.linestring.LineString at 0x119d3ddd8>,\n",
       "  <shapely.geometry.linestring.LineString at 0x119d3d9e8>,\n",
       "  <shapely.geometry.linestring.LineString at 0x119d12ba8>,\n",
       "  <shapely.geometry.linestring.LineString at 0x119d4f1d0>,\n",
       "  <shapely.geometry.linestring.LineString at 0x119d4fa20>,\n",
       "  <shapely.geometry.linestring.LineString at 0x119d4fc88>],\n",
       " 'bookkeeping_geoms': [[0], [1]],\n",
       " 'objects': {'feature_0': {'id': '47',\n",
       "   'type': 'GeometryCollection',\n",
       "   'properties': {'pop_est': 83082869.0,\n",
       "    'continent': 'Africa',\n",
       "    'name': 'Egypt',\n",
       "    'iso_a3': 'EGY',\n",
       "    'gdp_md_est': 443700.0},\n",
       "   'bbox': (24.70007, 22.0, 36.86623, 31.58568),\n",
       "   'geometries': [{'type': 'Polygon', 'arcs': [0]}]},\n",
       "  'feature_1': {'id': '139',\n",
       "   'type': 'GeometryCollection',\n",
       "   'properties': {'pop_est': 25946220.0,\n",
       "    'continent': 'Africa',\n",
       "    'name': 'Sudan',\n",
       "    'iso_a3': 'SDN',\n",
       "    'gdp_md_est': 88080.0},\n",
       "   'bbox': (21.93680999999998, 8.619729712933065, 38.410089959473225, 22.0),\n",
       "   'geometries': [{'type': 'Polygon', 'arcs': [1]}]}},\n",
       " 'junctions': [<shapely.geometry.point.Point at 0x119d3db70>,\n",
       "  <shapely.geometry.point.Point at 0x119d3dc50>,\n",
       "  <shapely.geometry.point.Point at 0x119d3dcc0>,\n",
       "  <shapely.geometry.point.Point at 0x119d3dac8>],\n",
       " 'bookkeeping_duplicates': array([], dtype=float64),\n",
       " 'bookkeeping_linestrings': array([[0., 1., 2.],\n",
       "        [3., 4., 5.]])}"
      ]
     },
     "execution_count": 4,
     "metadata": {},
     "output_type": "execute_result"
    }
   ],
   "source": [
    "cu"
   ]
  },
  {
   "cell_type": "code",
   "execution_count": 5,
   "metadata": {},
   "outputs": [
    {
     "data": {
      "image/svg+xml": [
       "<svg xmlns=\"http://www.w3.org/2000/svg\" xmlns:xlink=\"http://www.w3.org/1999/xlink\" width=\"100.0\" height=\"100.0\" viewBox=\"24.5253508 21.5253508 12.815528400000005 0.9492984000000035\" preserveAspectRatio=\"xMinYMin meet\"><g transform=\"matrix(1,0,0,-1,0,44.0)\"><polyline fill=\"none\" stroke=\"#66cc99\" stroke-width=\"0.2563105680000001\" points=\"36.86623,22.0 32.9,22.0 29.020000000000003,22.0 25.0,22.0\" opacity=\"0.8\" /></g></svg>"
      ],
      "text/plain": [
       "<shapely.geometry.linestring.LineString at 0x119d3d9e8>"
      ]
     },
     "execution_count": 5,
     "metadata": {},
     "output_type": "execute_result"
    }
   ],
   "source": [
    "g1 = cu['linestrings'][1]\n",
    "g1"
   ]
  },
  {
   "cell_type": "code",
   "execution_count": 6,
   "metadata": {},
   "outputs": [
    {
     "data": {
      "image/svg+xml": [
       "<svg xmlns=\"http://www.w3.org/2000/svg\" xmlns:xlink=\"http://www.w3.org/1999/xlink\" width=\"100.0\" height=\"100.0\" viewBox=\"24.52535080000012 21.525350800000005 12.815528399999849 0.9492983999999893\" preserveAspectRatio=\"xMinYMin meet\"><g transform=\"matrix(1,0,0,-1,0,44.0)\"><polyline fill=\"none\" stroke=\"#66cc99\" stroke-width=\"0.25631056799999696\" points=\"25.000000000000114,22.0 29.019999999999982,22.0 32.89999999999998,22.0 36.86622999999997,22.0\" opacity=\"0.8\" /></g></svg>"
      ],
      "text/plain": [
       "<shapely.geometry.linestring.LineString at 0x119d4fa20>"
      ]
     },
     "execution_count": 6,
     "metadata": {},
     "output_type": "execute_result"
    }
   ],
   "source": [
    "g2 = cu['linestrings'][4]\n",
    "g2"
   ]
  },
  {
   "cell_type": "code",
   "execution_count": 7,
   "metadata": {},
   "outputs": [
    {
     "data": {
      "text/plain": [
       "'LINESTRING (36.86623 22, 32.9 22, 29.02 22, 25 22)'"
      ]
     },
     "execution_count": 7,
     "metadata": {},
     "output_type": "execute_result"
    }
   ],
   "source": [
    "g1.wkt"
   ]
  },
  {
   "cell_type": "code",
   "execution_count": 8,
   "metadata": {},
   "outputs": [
    {
     "data": {
      "text/plain": [
       "'LINESTRING (25.00000000000011 22, 29.01999999999998 22, 32.89999999999998 22, 36.86622999999997 22)'"
      ]
     },
     "execution_count": 8,
     "metadata": {},
     "output_type": "execute_result"
    }
   ],
   "source": [
    "g2.wkt"
   ]
  },
  {
   "cell_type": "code",
   "execution_count": 9,
   "metadata": {},
   "outputs": [],
   "source": [
    "# %%prun -l 10\n",
    "# # present timing split out in the different subtasks\n",
    "# ex = topojson.extract(data)\n",
    "# jo = topojson.join(ex, quant_factor=1e4)\n",
    "# cu = topojson.cut(jo)\n",
    "# de = topojson.dedup(cu)\n",
    "# ha = topojson.hashmap(de)"
   ]
  },
  {
   "cell_type": "code",
   "execution_count": null,
   "metadata": {},
   "outputs": [],
   "source": []
  }
 ],
 "metadata": {
  "kernelspec": {
   "display_name": "Python 3",
   "language": "python",
   "name": "python3"
  },
  "language_info": {
   "codemirror_mode": {
    "name": "ipython",
    "version": 3
   },
   "file_extension": ".py",
   "mimetype": "text/x-python",
   "name": "python",
   "nbconvert_exporter": "python",
   "pygments_lexer": "ipython3",
   "version": "3.7.2"
  }
 },
 "nbformat": 4,
 "nbformat_minor": 2
}
