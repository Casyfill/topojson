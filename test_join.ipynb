{
 "cells": [
  {
   "cell_type": "code",
   "execution_count": 1,
   "metadata": {},
   "outputs": [],
   "source": [
    "import topojson\n",
    "from shapely import geometry\n",
    "from shapely.ops import shared_paths\n",
    "from shapely.ops import linemerge"
   ]
  },
  {
   "cell_type": "code",
   "execution_count": 127,
   "metadata": {},
   "outputs": [],
   "source": [
    "# equal lines\n",
    "# data = {\n",
    "#     \"abc1\": {\"type\": \"LineString\", \"coordinates\": [[0, 0], [1.0, 0], [2.0, 0]]},\n",
    "#     \"abc2\": {\"type\": \"LineString\", \"coordinates\": [[0, 0], [1.0, 0], [2.0, 0]]}\n",
    "# } \n",
    "\n",
    "# # forward backward lines\n",
    "# data = {\n",
    "#     \"abc3\": {\"type\": \"LineString\", \"coordinates\": [(0, 0), (10, 0), (10, 5), (20, 5)]},\n",
    "#     \"abc4\": {\"type\": \"LineString\", \"coordinates\": [(5, 0), (30, 0), (30, 5), (0, 5)]}\n",
    "# } \n",
    "\n",
    "# # more than two lines\n",
    "# data = {\n",
    "#     \"abc1\": {\"type\": \"LineString\", \"coordinates\": [(0, 0), (15, 2.5), (30, 5)]},\n",
    "#     \"abc2\": {\"type\": \"LineString\", \"coordinates\": [(0, 0), (15, 2.5), (30, 5)]},\n",
    "#     \"abc3\": {\"type\": \"LineString\", \"coordinates\": [(0, 0), (10, 0), (10, 5), (20, 5)]},\n",
    "#     \"abc4\": {\"type\": \"LineString\", \"coordinates\": [(5, 0), (30, 0), (30, 5), (0, 5)]}\n",
    "# }\n",
    "\n",
    "# # identical polygon\n",
    "# data = {\n",
    "#     \"abca1\": {\"type\": \"Polygon\", \"coordinates\": [[[0, 0], [1, 1], [2, 0], [0, 0]]]},\n",
    "#     \"abca2\": {\"type\": \"Polygon\", \"coordinates\": [[[0, 0], [1, 1], [2, 0], [0, 0]]]}\n",
    "# }\n",
    "\n",
    "# reversed identical polygon\n",
    "data = {\n",
    "    \"abca\": {\"type\": \"Polygon\", \"coordinates\": [[[0, 0], [1, 1], [2, 0], [0, 0]]]},\n",
    "    \"acba\": {\"type\": \"Polygon\", \"coordinates\": [[[0, 0], [2, 0], [1, 1], [0, 0]]]}\n",
    "}\n",
    "\n",
    "# invalid polygon geometry\n",
    "data = {\n",
    "    \"wrong\": {\"type\": \"Polygon\", \"coordinates\": [[[0, 0], [1, 0], [2, 0], [0, 0]]]},\n",
    "    \"valid\": {\"type\": \"Polygon\", \"coordinates\": [[[0, 0], [2, 0], [1, 1], [0, 0]]]}\n",
    "}\n",
    "\n",
    "# multipolygon\n",
    "data = {\n",
    "    \"foo\": {\n",
    "        \"type\": \"MultiPolygon\",\n",
    "        \"coordinates\": [\n",
    "            [\n",
    "                [[0, 0], [20, 0], [10, 20], [0, 0]],\n",
    "                [[6, 5], [10, 2], [14, 5], [10, 8], [6, 5]]\n",
    "            ],           \n",
    "            [\n",
    "                [[25, 5], [30, 10], [35, 5], [25, 5]]\n",
    "            ]\n",
    "        ]\n",
    "    }\n",
    "}\n"
   ]
  },
  {
   "cell_type": "code",
   "execution_count": 128,
   "metadata": {},
   "outputs": [
    {
     "ename": "TypeError",
     "evalue": "First geometry must be a LineString",
     "output_type": "error",
     "traceback": [
      "\u001b[0;31m---------------------------------------------------------------------------\u001b[0m",
      "\u001b[0;31mTypeError\u001b[0m                                 Traceback (most recent call last)",
      "\u001b[0;32m<ipython-input-128-1c648e6a6a2a>\u001b[0m in \u001b[0;36m<module>\u001b[0;34m()\u001b[0m\n\u001b[0;32m----> 1\u001b[0;31m \u001b[0mjoin\u001b[0m \u001b[0;34m=\u001b[0m \u001b[0mtopojson\u001b[0m\u001b[0;34m.\u001b[0m\u001b[0mjoin\u001b[0m\u001b[0;34m(\u001b[0m\u001b[0mtopojson\u001b[0m\u001b[0;34m.\u001b[0m\u001b[0mextract\u001b[0m\u001b[0;34m(\u001b[0m\u001b[0mdata\u001b[0m\u001b[0;34m)\u001b[0m\u001b[0;34m)\u001b[0m\u001b[0;34m\u001b[0m\u001b[0m\n\u001b[0m",
      "\u001b[0;32m~/topojson/topojson/join.py\u001b[0m in \u001b[0;36m_joiner\u001b[0;34m(data)\u001b[0m\n\u001b[1;32m     80\u001b[0m \u001b[0;32mdef\u001b[0m \u001b[0m_joiner\u001b[0m\u001b[0;34m(\u001b[0m\u001b[0mdata\u001b[0m\u001b[0;34m)\u001b[0m\u001b[0;34m:\u001b[0m\u001b[0;34m\u001b[0m\u001b[0m\n\u001b[1;32m     81\u001b[0m     \u001b[0mJoin\u001b[0m \u001b[0;34m=\u001b[0m \u001b[0m_Join\u001b[0m\u001b[0;34m(\u001b[0m\u001b[0;34m)\u001b[0m\u001b[0;34m\u001b[0m\u001b[0m\n\u001b[0;32m---> 82\u001b[0;31m     \u001b[0mj\u001b[0m \u001b[0;34m=\u001b[0m \u001b[0mJoin\u001b[0m\u001b[0;34m.\u001b[0m\u001b[0mmain\u001b[0m\u001b[0;34m(\u001b[0m\u001b[0mdata\u001b[0m\u001b[0;34m)\u001b[0m\u001b[0;34m\u001b[0m\u001b[0m\n\u001b[0m\u001b[1;32m     83\u001b[0m     \u001b[0;32mreturn\u001b[0m \u001b[0mj\u001b[0m\u001b[0;34m\u001b[0m\u001b[0m\n",
      "\u001b[0;32m~/topojson/topojson/join.py\u001b[0m in \u001b[0;36mmain\u001b[0;34m(self, data)\u001b[0m\n\u001b[1;32m     65\u001b[0m         \u001b[0;31m# iterate over line combinations\u001b[0m\u001b[0;34m\u001b[0m\u001b[0;34m\u001b[0m\u001b[0m\n\u001b[1;32m     66\u001b[0m         \u001b[0;32mfor\u001b[0m \u001b[0mgeoms\u001b[0m \u001b[0;32min\u001b[0m \u001b[0mline_combs\u001b[0m\u001b[0;34m:\u001b[0m\u001b[0;34m\u001b[0m\u001b[0m\n\u001b[0;32m---> 67\u001b[0;31m             \u001b[0mself\u001b[0m\u001b[0;34m.\u001b[0m\u001b[0mjunctions_two_lines\u001b[0m\u001b[0;34m(\u001b[0m\u001b[0mgeoms\u001b[0m\u001b[0;34m[\u001b[0m\u001b[0;36m0\u001b[0m\u001b[0;34m]\u001b[0m\u001b[0;34m,\u001b[0m \u001b[0mgeoms\u001b[0m\u001b[0;34m[\u001b[0m\u001b[0;36m1\u001b[0m\u001b[0;34m]\u001b[0m\u001b[0;34m)\u001b[0m\u001b[0;34m\u001b[0m\u001b[0m\n\u001b[0m\u001b[1;32m     68\u001b[0m \u001b[0;34m\u001b[0m\u001b[0m\n\u001b[1;32m     69\u001b[0m         \u001b[0;31m# self.segments is a list of LineStrings, get all coordinates\u001b[0m\u001b[0;34m\u001b[0m\u001b[0;34m\u001b[0m\u001b[0m\n",
      "\u001b[0;32m~/topojson/topojson/join.py\u001b[0m in \u001b[0;36mjunctions_two_lines\u001b[0;34m(self, g1, g2)\u001b[0m\n\u001b[1;32m     16\u001b[0m \u001b[0;34m\u001b[0m\u001b[0m\n\u001b[1;32m     17\u001b[0m     \u001b[0;32mdef\u001b[0m \u001b[0mjunctions_two_lines\u001b[0m\u001b[0;34m(\u001b[0m\u001b[0mself\u001b[0m\u001b[0;34m,\u001b[0m \u001b[0mg1\u001b[0m\u001b[0;34m,\u001b[0m \u001b[0mg2\u001b[0m\u001b[0;34m)\u001b[0m\u001b[0;34m:\u001b[0m\u001b[0;34m\u001b[0m\u001b[0m\n\u001b[0;32m---> 18\u001b[0;31m         \u001b[0mfw_bw\u001b[0m \u001b[0;34m=\u001b[0m \u001b[0mshared_paths\u001b[0m\u001b[0;34m(\u001b[0m\u001b[0mg1\u001b[0m\u001b[0;34m,\u001b[0m \u001b[0mg2\u001b[0m\u001b[0;34m)\u001b[0m\u001b[0;34m\u001b[0m\u001b[0m\n\u001b[0m\u001b[1;32m     19\u001b[0m         \u001b[0;32mif\u001b[0m \u001b[0;32mnot\u001b[0m \u001b[0mfw_bw\u001b[0m\u001b[0;34m.\u001b[0m\u001b[0mis_empty\u001b[0m\u001b[0;34m:\u001b[0m\u001b[0;34m\u001b[0m\u001b[0m\n\u001b[1;32m     20\u001b[0m \u001b[0;34m\u001b[0m\u001b[0m\n",
      "\u001b[0;32m/usr/local/lib/python3.7/site-packages/shapely/ops.py\u001b[0m in \u001b[0;36mshared_paths\u001b[0;34m(g1, g2)\u001b[0m\n\u001b[1;32m    321\u001b[0m     \"\"\"\n\u001b[1;32m    322\u001b[0m     \u001b[0;32mif\u001b[0m \u001b[0;32mnot\u001b[0m \u001b[0misinstance\u001b[0m\u001b[0;34m(\u001b[0m\u001b[0mg1\u001b[0m\u001b[0;34m,\u001b[0m \u001b[0mLineString\u001b[0m\u001b[0;34m)\u001b[0m\u001b[0;34m:\u001b[0m\u001b[0;34m\u001b[0m\u001b[0m\n\u001b[0;32m--> 323\u001b[0;31m         \u001b[0;32mraise\u001b[0m \u001b[0mTypeError\u001b[0m\u001b[0;34m(\u001b[0m\u001b[0;34m\"First geometry must be a LineString\"\u001b[0m\u001b[0;34m)\u001b[0m\u001b[0;34m\u001b[0m\u001b[0m\n\u001b[0m\u001b[1;32m    324\u001b[0m     \u001b[0;32mif\u001b[0m \u001b[0;32mnot\u001b[0m \u001b[0misinstance\u001b[0m\u001b[0;34m(\u001b[0m\u001b[0mg2\u001b[0m\u001b[0;34m,\u001b[0m \u001b[0mLineString\u001b[0m\u001b[0;34m)\u001b[0m\u001b[0;34m:\u001b[0m\u001b[0;34m\u001b[0m\u001b[0m\n\u001b[1;32m    325\u001b[0m         \u001b[0;32mraise\u001b[0m \u001b[0mTypeError\u001b[0m\u001b[0;34m(\u001b[0m\u001b[0;34m\"Second geometry must be a LineString\"\u001b[0m\u001b[0;34m)\u001b[0m\u001b[0;34m\u001b[0m\u001b[0m\n",
      "\u001b[0;31mTypeError\u001b[0m: First geometry must be a LineString"
     ]
    }
   ],
   "source": [
    "join = topojson.join(topojson.extract(data))"
   ]
  },
  {
   "cell_type": "code",
   "execution_count": 129,
   "metadata": {},
   "outputs": [
    {
     "data": {
      "text/plain": [
       "{'type': 'Topology',\n",
       " 'coordinates': [(0.0, 0.0),\n",
       "  (20.0, 0.0),\n",
       "  (10.0, 20.0),\n",
       "  (0.0, 0.0),\n",
       "  (25.0, 5.0),\n",
       "  (30.0, 10.0),\n",
       "  (35.0, 5.0),\n",
       "  (25.0, 5.0)],\n",
       " 'lines': [],\n",
       " 'rings': [<shapely.geometry.polygon.Polygon at 0x11315ceb8>,\n",
       "  <shapely.geometry.polygon.Polygon at 0x11315cd30>],\n",
       " 'objects': {'foo': {'type': 'MultiPolygon', 'arcs': [0, 1]}},\n",
       " 'junctions': []}"
      ]
     },
     "execution_count": 129,
     "metadata": {},
     "output_type": "execute_result"
    }
   ],
   "source": [
    "join"
   ]
  },
  {
   "cell_type": "code",
   "execution_count": 130,
   "metadata": {},
   "outputs": [],
   "source": [
    "g1 = geometry.shape(data['foo'])"
   ]
  },
  {
   "cell_type": "code",
   "execution_count": 135,
   "metadata": {},
   "outputs": [
    {
     "data": {
      "image/svg+xml": [
       "<svg xmlns=\"http://www.w3.org/2000/svg\" xmlns:xlink=\"http://www.w3.org/1999/xlink\" width=\"100.0\" height=\"100.0\" viewBox=\"-0.8 -0.8 21.6 21.6\" preserveAspectRatio=\"xMinYMin meet\"><g transform=\"matrix(1,0,0,-1,0,20.0)\"><polyline fill=\"none\" stroke=\"#66cc99\" stroke-width=\"0.43200000000000005\" points=\"0.0,0.0 20.0,0.0 10.0,20.0 0.0,0.0\" opacity=\"0.8\" /></g></svg>"
      ],
      "text/plain": [
       "<shapely.geometry.polygon.LinearRing at 0x11319df98>"
      ]
     },
     "execution_count": 135,
     "metadata": {},
     "output_type": "execute_result"
    }
   ],
   "source": [
    "g1[0].exterior"
   ]
  },
  {
   "cell_type": "code",
   "execution_count": null,
   "metadata": {},
   "outputs": [],
   "source": []
  },
  {
   "cell_type": "code",
   "execution_count": 132,
   "metadata": {},
   "outputs": [
    {
     "data": {
      "text/plain": [
       "True"
      ]
     },
     "execution_count": 132,
     "metadata": {},
     "output_type": "execute_result"
    }
   ],
   "source": [
    "g1.is_valid"
   ]
  },
  {
   "cell_type": "code",
   "execution_count": 133,
   "metadata": {},
   "outputs": [
    {
     "data": {
      "image/svg+xml": [
       "<svg xmlns=\"http://www.w3.org/2000/svg\" xmlns:xlink=\"http://www.w3.org/1999/xlink\" width=\"100.0\" height=\"100.0\" viewBox=\"-1.4000000000000001 -1.4000000000000001 37.8 22.799999999999997\" preserveAspectRatio=\"xMinYMin meet\"><g transform=\"matrix(1,0,0,-1,0,20.0)\"><g><path fill-rule=\"evenodd\" fill=\"#66cc99\" stroke=\"#555555\" stroke-width=\"0.7559999999999999\" opacity=\"0.6\" d=\"M 0.0,0.0 L 20.0,0.0 L 10.0,20.0 L 0.0,0.0 z M 6.0,5.0 L 10.0,2.0 L 14.0,5.0 L 10.0,8.0 L 6.0,5.0 z\" /><path fill-rule=\"evenodd\" fill=\"#66cc99\" stroke=\"#555555\" stroke-width=\"0.7559999999999999\" opacity=\"0.6\" d=\"M 25.0,5.0 L 30.0,10.0 L 35.0,5.0 L 25.0,5.0 z\" /></g></g></svg>"
      ],
      "text/plain": [
       "<shapely.geometry.multipolygon.MultiPolygon at 0x11319d5f8>"
      ]
     },
     "execution_count": 133,
     "metadata": {},
     "output_type": "execute_result"
    }
   ],
   "source": [
    "g1"
   ]
  },
  {
   "cell_type": "code",
   "execution_count": 134,
   "metadata": {},
   "outputs": [
    {
     "data": {
      "text/plain": [
       "{'type': 'Topology',\n",
       " 'coordinates': [(0.0, 0.0),\n",
       "  (20.0, 0.0),\n",
       "  (10.0, 20.0),\n",
       "  (0.0, 0.0),\n",
       "  (25.0, 5.0),\n",
       "  (30.0, 10.0),\n",
       "  (35.0, 5.0),\n",
       "  (25.0, 5.0)],\n",
       " 'lines': [],\n",
       " 'rings': [<shapely.geometry.polygon.Polygon at 0x11319de48>,\n",
       "  <shapely.geometry.polygon.Polygon at 0x11319d198>],\n",
       " 'objects': {'foo': {'type': 'MultiPolygon', 'arcs': [0, 1]}}}"
      ]
     },
     "execution_count": 134,
     "metadata": {},
     "output_type": "execute_result"
    }
   ],
   "source": [
    "topojson.extract(data)"
   ]
  },
  {
   "cell_type": "code",
   "execution_count": null,
   "metadata": {},
   "outputs": [],
   "source": [
    "warn_message"
   ]
  },
  {
   "cell_type": "code",
   "execution_count": null,
   "metadata": {},
   "outputs": [],
   "source": [
    "fw, bw = shared_paths(g1, g2)"
   ]
  },
  {
   "cell_type": "code",
   "execution_count": null,
   "metadata": {},
   "outputs": [],
   "source": [
    "g1.is_valid"
   ]
  },
  {
   "cell_type": "code",
   "execution_count": null,
   "metadata": {},
   "outputs": [],
   "source": [
    "segments = list(fw)"
   ]
  },
  {
   "cell_type": "code",
   "execution_count": null,
   "metadata": {},
   "outputs": [],
   "source": [
    "s_coords = [y for x in segments for y in list(x.coords)]\n",
    "junctions = [i for i in s_coords if s_coords.count(i) is 1]"
   ]
  },
  {
   "cell_type": "code",
   "execution_count": null,
   "metadata": {},
   "outputs": [],
   "source": [
    "s_coords"
   ]
  },
  {
   "cell_type": "code",
   "execution_count": null,
   "metadata": {},
   "outputs": [],
   "source": [
    "junctions"
   ]
  },
  {
   "cell_type": "code",
   "execution_count": null,
   "metadata": {},
   "outputs": [],
   "source": [
    "geometry.GeometryCollection([\n",
    "    geometry.MultiLineString(join['lines']),\n",
    "    geometry.MultiPolygon(join['rings']),\n",
    "    geometry.MultiPoint(join['junctions'])    \n",
    "])"
   ]
  },
  {
   "cell_type": "code",
   "execution_count": null,
   "metadata": {},
   "outputs": [],
   "source": [
    "g1 = geometry.shape(data['abca1'])\n",
    "g2 = geometry.shape(data['abca2'])"
   ]
  },
  {
   "cell_type": "code",
   "execution_count": null,
   "metadata": {},
   "outputs": [],
   "source": [
    "extract['linearrings'] = [ring.boundary for ring in extract['rings']]\n",
    "extract['mergerings'] = extract['linearrings'] + extract['rings']"
   ]
  },
  {
   "cell_type": "code",
   "execution_count": null,
   "metadata": {},
   "outputs": [],
   "source": [
    "for ring in extract['rings']:\n",
    "    print(ring)"
   ]
  },
  {
   "cell_type": "code",
   "execution_count": null,
   "metadata": {},
   "outputs": [],
   "source": [
    "ring"
   ]
  },
  {
   "cell_type": "code",
   "execution_count": null,
   "metadata": {},
   "outputs": [],
   "source": [
    "ring.boundary"
   ]
  },
  {
   "cell_type": "code",
   "execution_count": null,
   "metadata": {},
   "outputs": [],
   "source": [
    "import itertools\n",
    "line_combs = list(itertools.combinations(extract['rings'], 2))"
   ]
  },
  {
   "cell_type": "code",
   "execution_count": null,
   "metadata": {},
   "outputs": [],
   "source": [
    "if line_combs[0][0] == geometry.Polygon:\n",
    "    print('x')"
   ]
  },
  {
   "cell_type": "code",
   "execution_count": null,
   "metadata": {},
   "outputs": [],
   "source": [
    "if isinstance(line_combs[0][0], geometry.Polygon):\n",
    "    print('x')"
   ]
  },
  {
   "cell_type": "code",
   "execution_count": null,
   "metadata": {},
   "outputs": [],
   "source": [
    "fw_bw = shared_paths(g1.boundary, g1.boundary)"
   ]
  },
  {
   "cell_type": "code",
   "execution_count": null,
   "metadata": {},
   "outputs": [],
   "source": [
    "if not fw_bw.is_empty:\n",
    "    print('im alive')"
   ]
  },
  {
   "cell_type": "code",
   "execution_count": null,
   "metadata": {},
   "outputs": [],
   "source": [
    "?fw_bw[0]"
   ]
  },
  {
   "cell_type": "code",
   "execution_count": null,
   "metadata": {},
   "outputs": [],
   "source": [
    "fw_bw[1]"
   ]
  },
  {
   "cell_type": "code",
   "execution_count": null,
   "metadata": {},
   "outputs": [],
   "source": [
    " "
   ]
  }
 ],
 "metadata": {
  "kernelspec": {
   "display_name": "Python 3",
   "language": "python",
   "name": "python3"
  },
  "language_info": {
   "codemirror_mode": {
    "name": "ipython",
    "version": 3
   },
   "file_extension": ".py",
   "mimetype": "text/x-python",
   "name": "python",
   "nbconvert_exporter": "python",
   "pygments_lexer": "ipython3",
   "version": "3.7.0"
  }
 },
 "nbformat": 4,
 "nbformat_minor": 2
}
