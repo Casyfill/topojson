{
 "cells": [
  {
   "cell_type": "code",
   "execution_count": 1,
   "metadata": {},
   "outputs": [],
   "source": [
    "import topojson\n",
    "from shapely import geometry\n",
    "from shapely.ops import shared_paths\n",
    "from shapely.ops import linemerge"
   ]
  },
  {
   "cell_type": "code",
   "execution_count": 19,
   "metadata": {},
   "outputs": [],
   "source": [
    "# equal lines\n",
    "# data = {\n",
    "#     \"abc1\": {\"type\": \"LineString\", \"coordinates\": [[0, 0], [1.0, 0], [2.0, 0]]},\n",
    "#     \"abc2\": {\"type\": \"LineString\", \"coordinates\": [[0, 0], [1.0, 0], [2.0, 0]]}\n",
    "# } \n",
    "\n",
    "# # forward backward lines\n",
    "# data = {\n",
    "#     \"abc3\": {\"type\": \"LineString\", \"coordinates\": [(0, 0), (10, 0), (10, 5), (20, 5)]},\n",
    "#     \"abc4\": {\"type\": \"LineString\", \"coordinates\": [(5, 0), (30, 0), (30, 5), (0, 5)]}\n",
    "# } \n",
    "\n",
    "# # more than two lines\n",
    "# data = {\n",
    "#     \"abc1\": {\"type\": \"LineString\", \"coordinates\": [(0, 0), (15, 2.5), (30, 5)]},\n",
    "#     \"abc2\": {\"type\": \"LineString\", \"coordinates\": [(0, 0), (15, 2.5), (30, 5)]},\n",
    "#     \"abc3\": {\"type\": \"LineString\", \"coordinates\": [(0, 0), (10, 0), (10, 5), (20, 5)]},\n",
    "#     \"abc4\": {\"type\": \"LineString\", \"coordinates\": [(5, 0), (30, 0), (30, 5), (0, 5)]}\n",
    "# }\n",
    "\n",
    "# # identical polygon\n",
    "# data = {\n",
    "#     \"abca1\": {\"type\": \"Polygon\", \"coordinates\": [[[0, 0], [1, 1], [2, 0], [0, 0]]]},\n",
    "#     \"abca2\": {\"type\": \"Polygon\", \"coordinates\": [[[0, 0], [1, 1], [2, 0], [0, 0]]]}\n",
    "# }\n",
    "\n",
    "# reversed identical polygon\n",
    "data = {\n",
    "    \"abca\": {\"type\": \"Polygon\", \"coordinates\": [[[0, 0], [1, 1], [2, 0], [0, 0]]]},\n",
    "    \"acba\": {\"type\": \"Polygon\", \"coordinates\": [[[0, 0], [2, 0], [1, 1], [0, 0]]]}\n",
    "}\n",
    "\n",
    "# invalid polygon geometry\n",
    "data = {\n",
    "    \"wrong\": {\"type\": \"Polygon\", \"coordinates\": [[[0, 0], [1, 0], [2, 0], [0, 0]]]},\n",
    "    \"valid\": {\"type\": \"Polygon\", \"coordinates\": [[[0, 0], [2, 0], [1, 1], [0, 0]]]}\n",
    "}\n",
    "\n",
    "# multipolygon with hole\n",
    "data = {\n",
    "    \"foo\": {\n",
    "        \"type\": \"MultiPolygon\",\n",
    "        \"coordinates\": [\n",
    "            [\n",
    "                [[0, 0], [20, 0], [10, 20], [0, 0]], # CCW\n",
    "                [[3, 2], [10, 16], [17, 2], [3, 2]] # CW\n",
    "            ],  \n",
    "            [\n",
    "                [[6, 4], [14, 4], [10, 12], [6, 4]] #CCW \n",
    "            ],\n",
    "            [\n",
    "                [[25, 5], [30, 10], [35, 5], [25, 5]]\n",
    "            ]\n",
    "        ]\n",
    "    }\n",
    "}\n",
    "\n",
    "data = {\n",
    "    \"foo\": {\n",
    "        \"type\": \"MultiLineString\",\n",
    "        \"coordinates\": [\n",
    "        [[0.0, 0.0], [1, 1], [3, 3]],\n",
    "        [[1, 1], [0, 1]],\n",
    "        [[3,3], [4, 4], [0, 1]]\n",
    "        ]\n",
    "    }\n",
    "} "
   ]
  },
  {
   "cell_type": "code",
   "execution_count": 20,
   "metadata": {},
   "outputs": [],
   "source": [
    "join = topojson.join(topojson.extract(data))"
   ]
  },
  {
   "cell_type": "code",
   "execution_count": 25,
   "metadata": {},
   "outputs": [
    {
     "data": {
      "text/plain": [
       "{'type': 'Topology',\n",
       " 'coordinates': [(0.0, 0.0),\n",
       "  (1.0, 1.0),\n",
       "  (3.0, 3.0),\n",
       "  (1.0, 1.0),\n",
       "  (0.0, 1.0),\n",
       "  (3.0, 3.0),\n",
       "  (4.0, 4.0),\n",
       "  (0.0, 1.0)],\n",
       " 'lines': [<shapely.geometry.linestring.LineString at 0x10c6921d0>,\n",
       "  <shapely.geometry.linestring.LineString at 0x10c692208>,\n",
       "  <shapely.geometry.linestring.LineString at 0x10c692240>],\n",
       " 'rings': [],\n",
       " 'objects': {'foo': {'type': 'MultiLineString', 'arcs': [0, 1, 2]}},\n",
       " 'junctions': []}"
      ]
     },
     "execution_count": 25,
     "metadata": {},
     "output_type": "execute_result"
    }
   ],
   "source": [
    "join"
   ]
  },
  {
   "cell_type": "code",
   "execution_count": 26,
   "metadata": {},
   "outputs": [
    {
     "data": {
      "image/svg+xml": [
       "<svg xmlns=\"http://www.w3.org/2000/svg\" xmlns:xlink=\"http://www.w3.org/1999/xlink\" width=\"100.0\" height=\"100.0\" viewBox=\"-0.16 -0.16 4.32 4.32\" preserveAspectRatio=\"xMinYMin meet\"><g transform=\"matrix(1,0,0,-1,0,4.0)\"><g><g><polyline fill=\"none\" stroke=\"#66cc99\" stroke-width=\"0.0864\" points=\"0.0,0.0 1.0,1.0 3.0,3.0\" opacity=\"0.8\" /><polyline fill=\"none\" stroke=\"#66cc99\" stroke-width=\"0.0864\" points=\"1.0,1.0 0.0,1.0\" opacity=\"0.8\" /><polyline fill=\"none\" stroke=\"#66cc99\" stroke-width=\"0.0864\" points=\"3.0,3.0 4.0,4.0 0.0,1.0\" opacity=\"0.8\" /></g><g /><g /></g></g></svg>"
      ],
      "text/plain": [
       "<shapely.geometry.collection.GeometryCollection at 0x10c692f28>"
      ]
     },
     "execution_count": 26,
     "metadata": {},
     "output_type": "execute_result"
    }
   ],
   "source": [
    "geometry.GeometryCollection([\n",
    "    geometry.MultiLineString(join['lines']),\n",
    "    geometry.MultiPolygon(join['rings']),\n",
    "    geometry.MultiPoint(join['junctions'])    \n",
    "])"
   ]
  },
  {
   "cell_type": "code",
   "execution_count": null,
   "metadata": {},
   "outputs": [],
   "source": [
    " "
   ]
  }
 ],
 "metadata": {
  "kernelspec": {
   "display_name": "Python 3",
   "language": "python",
   "name": "python3"
  },
  "language_info": {
   "codemirror_mode": {
    "name": "ipython",
    "version": 3
   },
   "file_extension": ".py",
   "mimetype": "text/x-python",
   "name": "python",
   "nbconvert_exporter": "python",
   "pygments_lexer": "ipython3",
   "version": "3.7.0"
  }
 },
 "nbformat": 4,
 "nbformat_minor": 2
}
