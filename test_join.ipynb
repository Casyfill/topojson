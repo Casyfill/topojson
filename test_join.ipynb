{
 "cells": [
  {
   "cell_type": "code",
   "execution_count": 1,
   "metadata": {},
   "outputs": [],
   "source": [
    "import topojson\n",
    "from shapely import geometry\n",
    "from shapely.ops import shared_paths\n",
    "from shapely.ops import linemerge"
   ]
  },
  {
   "cell_type": "code",
   "execution_count": 12,
   "metadata": {},
   "outputs": [],
   "source": [
    "# equal lines\n",
    "# data = {\n",
    "#     \"abc1\": {\"type\": \"LineString\", \"coordinates\": [[0, 0], [1.0, 0], [2.0, 0]]},\n",
    "#     \"abc2\": {\"type\": \"LineString\", \"coordinates\": [[0, 0], [1.0, 0], [2.0, 0]]}\n",
    "# } \n",
    "\n",
    "# # forward backward lines\n",
    "# data = {\n",
    "#     \"abc3\": {\"type\": \"LineString\", \"coordinates\": [(0, 0), (10, 0), (10, 5), (20, 5)]},\n",
    "#     \"abc4\": {\"type\": \"LineString\", \"coordinates\": [(5, 0), (30, 0), (30, 5), (0, 5)]}\n",
    "# } \n",
    "\n",
    "# # more than two lines\n",
    "# data = {\n",
    "#     \"abc1\": {\"type\": \"LineString\", \"coordinates\": [(0, 0), (15, 2.5), (30, 5)]},\n",
    "#     \"abc2\": {\"type\": \"LineString\", \"coordinates\": [(0, 0), (15, 2.5), (30, 5)]},\n",
    "#     \"abc3\": {\"type\": \"LineString\", \"coordinates\": [(0, 0), (10, 0), (10, 5), (20, 5)]},\n",
    "#     \"abc4\": {\"type\": \"LineString\", \"coordinates\": [(5, 0), (30, 0), (30, 5), (0, 5)]}\n",
    "# }\n",
    "\n",
    "# identical polygon\n",
    "data = {\n",
    "    \"abca1\": {\"type\": \"Polygon\", \"coordinates\": [[[0, 0], [1, 1], [2, 0], [0, 0]]]},\n",
    "    \"abca2\": {\"type\": \"Polygon\", \"coordinates\": [[[0, 0], [1, 1], [2, 0], [0, 0]]]}\n",
    "}\n",
    "\n",
    "# # reversed identical polygon\n",
    "# data = {\n",
    "#     \"abca1\": {\"type\": \"Polygon\", \"coordinates\": [[[0, 0], [1, 0], [2, 0], [0, 0]]]},\n",
    "#     \"acba2\": {\"type\": \"Polygon\", \"coordinates\": [[[0, 0], [2, 0], [1, 0], [0, 0]]]}\n",
    "# }"
   ]
  },
  {
   "cell_type": "code",
   "execution_count": 13,
   "metadata": {},
   "outputs": [],
   "source": [
    "extract = topojson.extract(data)"
   ]
  },
  {
   "cell_type": "code",
   "execution_count": 15,
   "metadata": {},
   "outputs": [],
   "source": [
    "join = topojson.join(extract)"
   ]
  },
  {
   "cell_type": "code",
   "execution_count": 16,
   "metadata": {},
   "outputs": [
    {
     "data": {
      "text/plain": [
       "{'type': 'Topology',\n",
       " 'coordinates': [(0.0, 0.0),\n",
       "  (1.0, 1.0),\n",
       "  (2.0, 0.0),\n",
       "  (0.0, 0.0),\n",
       "  (0.0, 0.0),\n",
       "  (1.0, 1.0),\n",
       "  (2.0, 0.0),\n",
       "  (0.0, 0.0)],\n",
       " 'lines': [],\n",
       " 'rings': [<shapely.geometry.polygon.Polygon at 0x7428b00>,\n",
       "  <shapely.geometry.polygon.Polygon at 0x744d0b8>],\n",
       " 'objects': {'abca1': {'type': 'Polygon', 'arcs': [0]},\n",
       "  'abca2': {'type': 'Polygon', 'arcs': [1]}},\n",
       " 'junctions': []}"
      ]
     },
     "execution_count": 16,
     "metadata": {},
     "output_type": "execute_result"
    }
   ],
   "source": [
    "join"
   ]
  },
  {
   "cell_type": "code",
   "execution_count": null,
   "metadata": {},
   "outputs": [],
   "source": [
    "import itertools"
   ]
  },
  {
   "cell_type": "code",
   "execution_count": null,
   "metadata": {},
   "outputs": [],
   "source": [
    "join[]"
   ]
  },
  {
   "cell_type": "code",
   "execution_count": null,
   "metadata": {},
   "outputs": [],
   "source": [
    "shared_paths(line_combs[0][0], line_combs[0][1])"
   ]
  },
  {
   "cell_type": "code",
   "execution_count": 7,
   "metadata": {},
   "outputs": [
    {
     "data": {
      "image/svg+xml": [
       "<svg xmlns=\"http://www.w3.org/2000/svg\" xmlns:xlink=\"http://www.w3.org/1999/xlink\" width=\"100.0\" height=\"100.0\" viewBox=\"-0.08 -0.08 2.16 1.1600000000000001\" preserveAspectRatio=\"xMinYMin meet\"><g transform=\"matrix(1,0,0,-1,0,1.0)\"><g><g /><g><path fill-rule=\"evenodd\" fill=\"#ff3333\" stroke=\"#555555\" stroke-width=\"0.0432\" opacity=\"0.6\" d=\"M 0.0,0.0 L 1.0,1.0 L 2.0,0.0 L 0.0,0.0 z\" /><path fill-rule=\"evenodd\" fill=\"#ff3333\" stroke=\"#555555\" stroke-width=\"0.0432\" opacity=\"0.6\" d=\"M 0.0,0.0 L 1.0,1.0 L 2.0,0.0 L 0.0,0.0 z\" /></g><g /></g></g></svg>"
      ],
      "text/plain": [
       "<shapely.geometry.collection.GeometryCollection at 0x74284e0>"
      ]
     },
     "execution_count": 7,
     "metadata": {},
     "output_type": "execute_result"
    }
   ],
   "source": [
    "geometry.GeometryCollection([\n",
    "    geometry.MultiLineString(join['lines']),\n",
    "    geometry.MultiPolygon(join['rings']),\n",
    "    geometry.MultiPoint(join['junctions'])    \n",
    "])"
   ]
  },
  {
   "cell_type": "code",
   "execution_count": null,
   "metadata": {},
   "outputs": [],
   "source": [
    "g1 = geometry.shape(data['abca1'])\n",
    "g2 = geometry.shape(data['abca2'])"
   ]
  },
  {
   "cell_type": "code",
   "execution_count": null,
   "metadata": {},
   "outputs": [],
   "source": [
    "extract['linearrings'] = [ring.boundary for ring in extract['rings']]\n",
    "extract['mergerings'] = extract['linearrings'] + extract['rings']"
   ]
  },
  {
   "cell_type": "code",
   "execution_count": null,
   "metadata": {},
   "outputs": [],
   "source": [
    "for ring in extract['rings']:\n",
    "    print(ring)"
   ]
  },
  {
   "cell_type": "code",
   "execution_count": null,
   "metadata": {},
   "outputs": [],
   "source": [
    "ring"
   ]
  },
  {
   "cell_type": "code",
   "execution_count": null,
   "metadata": {},
   "outputs": [],
   "source": [
    "ring.boundary"
   ]
  },
  {
   "cell_type": "code",
   "execution_count": null,
   "metadata": {},
   "outputs": [],
   "source": [
    "import itertools\n",
    "line_combs = list(itertools.combinations(extract['rings'], 2))"
   ]
  },
  {
   "cell_type": "code",
   "execution_count": null,
   "metadata": {},
   "outputs": [],
   "source": [
    "if line_combs[0][0] == geometry.Polygon:\n",
    "    print('x')"
   ]
  },
  {
   "cell_type": "code",
   "execution_count": null,
   "metadata": {},
   "outputs": [],
   "source": [
    "if isinstance(line_combs[0][0], geometry.Polygon):\n",
    "    print('x')"
   ]
  },
  {
   "cell_type": "code",
   "execution_count": null,
   "metadata": {},
   "outputs": [],
   "source": [
    "fw_bw = shared_paths(g1.boundary, g1.boundary)"
   ]
  },
  {
   "cell_type": "code",
   "execution_count": null,
   "metadata": {},
   "outputs": [],
   "source": [
    "if not fw_bw.is_empty:\n",
    "    print('im alive')"
   ]
  },
  {
   "cell_type": "code",
   "execution_count": null,
   "metadata": {},
   "outputs": [],
   "source": [
    "?fw_bw[0]"
   ]
  },
  {
   "cell_type": "code",
   "execution_count": null,
   "metadata": {},
   "outputs": [],
   "source": [
    "fw_bw[1]"
   ]
  },
  {
   "cell_type": "code",
   "execution_count": null,
   "metadata": {},
   "outputs": [],
   "source": [
    " "
   ]
  }
 ],
 "metadata": {
  "kernelspec": {
   "display_name": "Python 3",
   "language": "python",
   "name": "python3"
  },
  "language_info": {
   "codemirror_mode": {
    "name": "ipython",
    "version": 3
   },
   "file_extension": ".py",
   "mimetype": "text/x-python",
   "name": "python",
   "nbconvert_exporter": "python",
   "pygments_lexer": "ipython3",
   "version": "3.6.5"
  }
 },
 "nbformat": 4,
 "nbformat_minor": 2
}
