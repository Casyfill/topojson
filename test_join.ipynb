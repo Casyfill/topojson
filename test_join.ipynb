{
 "cells": [
  {
   "cell_type": "code",
   "execution_count": 1,
   "metadata": {},
   "outputs": [],
   "source": [
    "import topojson\n",
    "from shapely import geometry\n",
    "from shapely.ops import shared_paths\n",
    "from shapely.ops import linemerge"
   ]
  },
  {
   "cell_type": "code",
   "execution_count": 19,
   "metadata": {},
   "outputs": [],
   "source": [
    "# equal lines\n",
    "# data = {\n",
    "#     \"abc1\": {\"type\": \"LineString\", \"coordinates\": [[0, 0], [1.0, 0], [2.0, 0]]},\n",
    "#     \"abc2\": {\"type\": \"LineString\", \"coordinates\": [[0, 0], [1.0, 0], [2.0, 0]]}\n",
    "# } \n",
    "\n",
    "# # forward backward lines\n",
    "# data = {\n",
    "#     \"abc3\": {\"type\": \"LineString\", \"coordinates\": [(0, 0), (10, 0), (10, 5), (20, 5)]},\n",
    "#     \"abc4\": {\"type\": \"LineString\", \"coordinates\": [(5, 0), (30, 0), (30, 5), (0, 5)]}\n",
    "# } \n",
    "\n",
    "# # more than two lines\n",
    "# data = {\n",
    "#     \"abc1\": {\"type\": \"LineString\", \"coordinates\": [(0, 0), (15, 2.5), (30, 5)]},\n",
    "#     \"abc2\": {\"type\": \"LineString\", \"coordinates\": [(0, 0), (15, 2.5), (30, 5)]},\n",
    "#     \"abc3\": {\"type\": \"LineString\", \"coordinates\": [(0, 0), (10, 0), (10, 5), (20, 5)]},\n",
    "#     \"abc4\": {\"type\": \"LineString\", \"coordinates\": [(5, 0), (30, 0), (30, 5), (0, 5)]}\n",
    "# }\n",
    "\n",
    "# # identical polygon\n",
    "# data = {\n",
    "#     \"abca1\": {\"type\": \"Polygon\", \"coordinates\": [[[0, 0], [1, 1], [2, 0], [0, 0]]]},\n",
    "#     \"abca2\": {\"type\": \"Polygon\", \"coordinates\": [[[0, 0], [1, 1], [2, 0], [0, 0]]]}\n",
    "# }\n",
    "\n",
    "# reversed identical polygon\n",
    "data = {\n",
    "    \"abca\": {\"type\": \"Polygon\", \"coordinates\": [[[0, 0], [1, 1], [2, 0], [0, 0]]]},\n",
    "    \"acba\": {\"type\": \"Polygon\", \"coordinates\": [[[0, 0], [2, 0], [1, 1], [0, 0]]]}\n",
    "}\n",
    "\n",
    "# invalid polygon geometry\n",
    "data = {\n",
    "    \"wrong\": {\"type\": \"Polygon\", \"coordinates\": [[[0, 0], [1, 0], [2, 0], [0, 0]]]},\n",
    "    \"valid\": {\"type\": \"Polygon\", \"coordinates\": [[[0, 0], [2, 0], [1, 1], [0, 0]]]}\n",
    "}\n",
    "\n",
    "# multipolygon with hole\n",
    "data = {\n",
    "    \"foo\": {\n",
    "        \"type\": \"MultiPolygon\",\n",
    "        \"coordinates\": [\n",
    "            [\n",
    "                [[0, 0], [20, 0], [10, 20], [0, 0]], # CCW\n",
    "                [[3, 2], [10, 16], [17, 2], [3, 2]] # CW\n",
    "            ],  \n",
    "            [\n",
    "                [[6, 4], [14, 4], [10, 12], [6, 4]] #CCW \n",
    "            ],\n",
    "            [\n",
    "                [[25, 5], [30, 10], [35, 5], [25, 5]]\n",
    "            ]\n",
    "        ]\n",
    "    }\n",
    "}\n",
    "\n",
    "data = {\n",
    "    \"foo\": {\n",
    "        \"type\": \"MultiLineString\",\n",
    "        \"coordinates\": [\n",
    "        [[0.0, 0.0], [1, 1], [3, 3]],\n",
    "        [[1, 1], [0, 1]],\n",
    "        [[3,3], [4, 4], [0, 1]]\n",
    "        ]\n",
    "    }\n",
    "} "
   ]
  },
  {
   "cell_type": "code",
   "execution_count": 20,
   "metadata": {},
   "outputs": [],
   "source": [
    "join = topojson.join(topojson.extract(data))"
   ]
  },
  {
   "cell_type": "code",
   "execution_count": 21,
   "metadata": {},
   "outputs": [
    {
     "data": {
      "text/plain": [
       "{'type': 'Topology',\n",
       " 'coordinates': [(0.0, 0.0),\n",
       "  (1.0, 1.0),\n",
       "  (3.0, 3.0),\n",
       "  (1.0, 1.0),\n",
       "  (0.0, 1.0),\n",
       "  (3.0, 3.0),\n",
       "  (4.0, 4.0),\n",
       "  (0.0, 1.0)],\n",
       " 'lines': [<shapely.geometry.linestring.LineString at 0x10c6921d0>,\n",
       "  <shapely.geometry.linestring.LineString at 0x10c692208>,\n",
       "  <shapely.geometry.linestring.LineString at 0x10c692240>],\n",
       " 'rings': [],\n",
       " 'objects': {'foo': {'type': 'MultiLineString', 'arcs': [0, 1, 2]}},\n",
       " 'junctions': []}"
      ]
     },
     "execution_count": 21,
     "metadata": {},
     "output_type": "execute_result"
    }
   ],
   "source": [
    "join"
   ]
  },
  {
   "cell_type": "code",
   "execution_count": null,
   "metadata": {},
   "outputs": [],
   "source": []
  },
  {
   "cell_type": "code",
   "execution_count": 22,
   "metadata": {},
   "outputs": [],
   "source": [
    "g1 = geometry.shape(data['foo'])"
   ]
  },
  {
   "cell_type": "code",
   "execution_count": 23,
   "metadata": {},
   "outputs": [
    {
     "data": {
      "text/plain": [
       "True"
      ]
     },
     "execution_count": 23,
     "metadata": {},
     "output_type": "execute_result"
    }
   ],
   "source": [
    "g1.is_valid"
   ]
  },
  {
   "cell_type": "code",
   "execution_count": 24,
   "metadata": {},
   "outputs": [
    {
     "data": {
      "image/svg+xml": [
       "<svg xmlns=\"http://www.w3.org/2000/svg\" xmlns:xlink=\"http://www.w3.org/1999/xlink\" width=\"100.0\" height=\"100.0\" viewBox=\"-0.16 -0.16 4.32 4.32\" preserveAspectRatio=\"xMinYMin meet\"><g transform=\"matrix(1,0,0,-1,0,4.0)\"><g><polyline fill=\"none\" stroke=\"#66cc99\" stroke-width=\"0.0864\" points=\"0.0,0.0 1.0,1.0 3.0,3.0\" opacity=\"0.8\" /><polyline fill=\"none\" stroke=\"#66cc99\" stroke-width=\"0.0864\" points=\"1.0,1.0 0.0,1.0\" opacity=\"0.8\" /><polyline fill=\"none\" stroke=\"#66cc99\" stroke-width=\"0.0864\" points=\"3.0,3.0 4.0,4.0 0.0,1.0\" opacity=\"0.8\" /></g></g></svg>"
      ],
      "text/plain": [
       "<shapely.geometry.multilinestring.MultiLineString at 0x10c6926d8>"
      ]
     },
     "execution_count": 24,
     "metadata": {},
     "output_type": "execute_result"
    }
   ],
   "source": [
    "g1"
   ]
  },
  {
   "cell_type": "code",
   "execution_count": null,
   "metadata": {},
   "outputs": [],
   "source": [
    "ex = topojson.extract(data)"
   ]
  },
  {
   "cell_type": "code",
   "execution_count": null,
   "metadata": {},
   "outputs": [],
   "source": [
    "for ring in ex['rings']:\n",
    "    ls = ring.boundary\n",
    "    print(ls)"
   ]
  },
  {
   "cell_type": "code",
   "execution_count": null,
   "metadata": {},
   "outputs": [],
   "source": [
    "isinstance(ring.boundary, geometry.MultiLineString)"
   ]
  },
  {
   "cell_type": "code",
   "execution_count": null,
   "metadata": {},
   "outputs": [],
   "source": [
    "for l in ls:\n",
    "    print(l)"
   ]
  },
  {
   "cell_type": "code",
   "execution_count": null,
   "metadata": {},
   "outputs": [],
   "source": [
    "ex['rings'][0]"
   ]
  },
  {
   "cell_type": "code",
   "execution_count": null,
   "metadata": {},
   "outputs": [],
   "source": [
    "[ unicode(x.strip()) \n",
    " if x is not None \n",
    " else '' \n",
    " for x in row ]\n",
    "\n",
    "#[x for x in a for a in b] # behavior like\n",
    "[x for b in a for x in b] # solution\n",
    "[x \n",
    " for b in a \n",
    " for x in b] # solution\n",
    "\n",
    ">>> z = [[1,2,3,4],[5,6,7,8],[9,10,11,12]]\n",
    ">>> [x for y in z if sum(y)>10 else y]\n",
    "[5, 6, 7, 8, 9]\n",
    "In regular for-loop:\n",
    "\n",
    ">>> for y in z:\n",
    "    if sum(y)>10:\n",
    "        for x in y:\n",
    "            print(x)\n",
    "    else:\n",
    "        print(y)\n",
    "        \n",
    "[val if val % 2 else -val\n",
    " for val in range(20) if val % 3]        "
   ]
  },
  {
   "cell_type": "code",
   "execution_count": null,
   "metadata": {},
   "outputs": [],
   "source": [
    "[x \n",
    " for val.boundary  \n",
    " in ex['rings']\n",
    " if isinstance(val.boundary, geometry.MultiLineString) \n",
    "]"
   ]
  },
  {
   "cell_type": "code",
   "execution_count": null,
   "metadata": {},
   "outputs": [],
   "source": [
    "linearrings = []\n",
    "for val in ex['rings']:\n",
    "    if isinstance(val.boundary, geometry.MultiLineString):\n",
    "        for x in val.boundary:\n",
    "            linearrings.append(x)\n",
    "    else:\n",
    "        linearrings.append(val.boundary)"
   ]
  },
  {
   "cell_type": "code",
   "execution_count": null,
   "metadata": {},
   "outputs": [],
   "source": [
    "L"
   ]
  },
  {
   "cell_type": "code",
   "execution_count": null,
   "metadata": {},
   "outputs": [],
   "source": [
    "[for ring in ex['rings']"
   ]
  },
  {
   "cell_type": "code",
   "execution_count": null,
   "metadata": {},
   "outputs": [],
   "source": [
    "[ring.boundary\n",
    " if not isinstance(ring.boundary, geometry.MultiLineString)\n",
    " else ls for ls in ring.boundary\n",
    " for ring in ex['rings'] \n",
    "]"
   ]
  },
  {
   "cell_type": "code",
   "execution_count": null,
   "metadata": {},
   "outputs": [],
   "source": [
    "[ ls for ring if isinstance(ring.boundary, geometry.MultiLineString) else ring.boundary for ring in ex['rings'] ]"
   ]
  },
  {
   "cell_type": "code",
   "execution_count": null,
   "metadata": {},
   "outputs": [],
   "source": []
  },
  {
   "cell_type": "code",
   "execution_count": null,
   "metadata": {},
   "outputs": [],
   "source": [
    "fw, bw = shared_paths(g1, g2)"
   ]
  },
  {
   "cell_type": "code",
   "execution_count": null,
   "metadata": {},
   "outputs": [],
   "source": [
    "g1.is_valid"
   ]
  },
  {
   "cell_type": "code",
   "execution_count": null,
   "metadata": {},
   "outputs": [],
   "source": [
    "segments = list(fw)"
   ]
  },
  {
   "cell_type": "code",
   "execution_count": null,
   "metadata": {},
   "outputs": [],
   "source": [
    "s_coords = [y for x in segments for y in list(x.coords)]\n",
    "junctions = [i for i in s_coords if s_coords.count(i) is 1]"
   ]
  },
  {
   "cell_type": "code",
   "execution_count": null,
   "metadata": {},
   "outputs": [],
   "source": [
    "s_coords"
   ]
  },
  {
   "cell_type": "code",
   "execution_count": null,
   "metadata": {},
   "outputs": [],
   "source": [
    "junctions"
   ]
  },
  {
   "cell_type": "code",
   "execution_count": null,
   "metadata": {},
   "outputs": [],
   "source": [
    "geometry.GeometryCollection([\n",
    "    geometry.MultiLineString(join['lines']),\n",
    "    geometry.MultiPolygon(join['rings']),\n",
    "    geometry.MultiPoint(join['junctions'])    \n",
    "])"
   ]
  },
  {
   "cell_type": "code",
   "execution_count": null,
   "metadata": {},
   "outputs": [],
   "source": [
    "g1 = geometry.shape(data['abca1'])\n",
    "g2 = geometry.shape(data['abca2'])"
   ]
  },
  {
   "cell_type": "code",
   "execution_count": null,
   "metadata": {},
   "outputs": [],
   "source": [
    "extract['linearrings'] = [ring.boundary for ring in extract['rings']]\n",
    "extract['mergerings'] = extract['linearrings'] + extract['rings']"
   ]
  },
  {
   "cell_type": "code",
   "execution_count": null,
   "metadata": {},
   "outputs": [],
   "source": [
    "for ring in extract['rings']:\n",
    "    print(ring)"
   ]
  },
  {
   "cell_type": "code",
   "execution_count": null,
   "metadata": {},
   "outputs": [],
   "source": [
    "ring"
   ]
  },
  {
   "cell_type": "code",
   "execution_count": null,
   "metadata": {},
   "outputs": [],
   "source": [
    "ring.boundary"
   ]
  },
  {
   "cell_type": "code",
   "execution_count": null,
   "metadata": {},
   "outputs": [],
   "source": [
    "import itertools\n",
    "line_combs = list(itertools.combinations(extract['rings'], 2))"
   ]
  },
  {
   "cell_type": "code",
   "execution_count": null,
   "metadata": {},
   "outputs": [],
   "source": [
    "if line_combs[0][0] == geometry.Polygon:\n",
    "    print('x')"
   ]
  },
  {
   "cell_type": "code",
   "execution_count": null,
   "metadata": {},
   "outputs": [],
   "source": [
    "if isinstance(line_combs[0][0], geometry.Polygon):\n",
    "    print('x')"
   ]
  },
  {
   "cell_type": "code",
   "execution_count": null,
   "metadata": {},
   "outputs": [],
   "source": [
    "fw_bw = shared_paths(g1.boundary, g1.boundary)"
   ]
  },
  {
   "cell_type": "code",
   "execution_count": null,
   "metadata": {},
   "outputs": [],
   "source": [
    "if not fw_bw.is_empty:\n",
    "    print('im alive')"
   ]
  },
  {
   "cell_type": "code",
   "execution_count": null,
   "metadata": {},
   "outputs": [],
   "source": [
    "?fw_bw[0]"
   ]
  },
  {
   "cell_type": "code",
   "execution_count": null,
   "metadata": {},
   "outputs": [],
   "source": [
    "fw_bw[1]"
   ]
  },
  {
   "cell_type": "code",
   "execution_count": null,
   "metadata": {},
   "outputs": [],
   "source": [
    " "
   ]
  }
 ],
 "metadata": {
  "kernelspec": {
   "display_name": "Python 3",
   "language": "python",
   "name": "python3"
  },
  "language_info": {
   "codemirror_mode": {
    "name": "ipython",
    "version": 3
   },
   "file_extension": ".py",
   "mimetype": "text/x-python",
   "name": "python",
   "nbconvert_exporter": "python",
   "pygments_lexer": "ipython3",
   "version": "3.7.0"
  }
 },
 "nbformat": 4,
 "nbformat_minor": 2
}
