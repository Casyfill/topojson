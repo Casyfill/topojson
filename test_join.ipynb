{
 "cells": [
  {
   "cell_type": "code",
   "execution_count": 1,
   "metadata": {},
   "outputs": [],
   "source": [
    "import topojson\n",
    "from shapely import geometry\n",
    "from shapely.ops import shared_paths\n",
    "from shapely.ops import linemerge"
   ]
  },
  {
   "cell_type": "code",
   "execution_count": 7,
   "metadata": {},
   "outputs": [],
   "source": [
    "def junctions_two_lines(junctions, g1, g2):\n",
    "    forward, backward = shared_paths(g1, g2)    \n",
    "    \n",
    "    if backward.is_empty and forward.is_empty:\n",
    "        print('both empty')\n",
    "        \n",
    "    elif backward.is_empty:\n",
    "        shared_segments = forward\n",
    "    elif forward.is_empty:    \n",
    "        shared_segments = backward       \n",
    "    else:\n",
    "        print('both full')  \n",
    "        shared_segments = geometry.MultiLineString([linemerge(forward),linemerge(backward)])\n",
    "\n",
    "    for segment in shared_segments:\n",
    "        #print(segment.wkt)\n",
    "        xy = list(segment.coords) \n",
    "        xy[::len(list(xy))-1]\n",
    "        junctions.extend(xy)\n",
    "\n",
    "    # only get coordinates that appear only once\n",
    "    junctions = [i for i in junctions if junctions.count(i) is 1]        \n",
    "        \n",
    "    return junctions"
   ]
  },
  {
   "cell_type": "code",
   "execution_count": 3,
   "metadata": {},
   "outputs": [],
   "source": [
    "data = {\n",
    "    \"abc1\": {\"type\": \"LineString\", \"coordinates\": [[0, 0], [1, 0], [2, 0]]},\n",
    "    \"abc2\": {\"type\": \"LineString\", \"coordinates\": [[0, 0], [1, 0], [2, 0]]}\n",
    "} "
   ]
  },
  {
   "cell_type": "code",
   "execution_count": 4,
   "metadata": {},
   "outputs": [],
   "source": [
    "topo = topojson.extract(data)"
   ]
  },
  {
   "cell_type": "code",
   "execution_count": null,
   "metadata": {},
   "outputs": [],
   "source": [
    "topo"
   ]
  },
  {
   "cell_type": "code",
   "execution_count": 5,
   "metadata": {},
   "outputs": [],
   "source": [
    "g = topo['lines']\n",
    "g1 = geometry.LineString([(0, 0), (10, 0), (10, 5), (20, 5)])\n",
    "g2 = geometry.LineString([(5, 0), (30, 0), (30, 5), (0, 5)])\n",
    "h = [g1,g2]"
   ]
  },
  {
   "cell_type": "code",
   "execution_count": 8,
   "metadata": {},
   "outputs": [
    {
     "name": "stdout",
     "output_type": "stream",
     "text": [
      "both full\n"
     ]
    },
    {
     "data": {
      "text/plain": [
       "[(5.0, 0.0), (10.0, 0.0), (10.0, 5.0), (20.0, 5.0)]"
      ]
     },
     "execution_count": 8,
     "metadata": {},
     "output_type": "execute_result"
    }
   ],
   "source": [
    "junctions=[]\n",
    "junctions_two_lines(junctions, g1, g2)\n",
    "    \n",
    "    "
   ]
  },
  {
   "cell_type": "code",
   "execution_count": null,
   "metadata": {},
   "outputs": [],
   "source": []
  },
  {
   "cell_type": "code",
   "execution_count": null,
   "metadata": {},
   "outputs": [],
   "source": []
  },
  {
   "cell_type": "code",
   "execution_count": null,
   "metadata": {},
   "outputs": [],
   "source": [
    "\n",
    "forward, backward = shared_paths(g1, g2)"
   ]
  },
  {
   "cell_type": "code",
   "execution_count": null,
   "metadata": {},
   "outputs": [],
   "source": []
  },
  {
   "cell_type": "code",
   "execution_count": null,
   "metadata": {},
   "outputs": [],
   "source": [
    "junctions = []\n",
    "    "
   ]
  },
  {
   "cell_type": "code",
   "execution_count": null,
   "metadata": {},
   "outputs": [],
   "source": []
  },
  {
   "cell_type": "code",
   "execution_count": null,
   "metadata": {},
   "outputs": [],
   "source": [
    "list(set(junctions) - set(junctions))"
   ]
  },
  {
   "cell_type": "code",
   "execution_count": null,
   "metadata": {},
   "outputs": [],
   "source": [
    "for i in junctions:\n",
    "    print(i)\n",
    "    print(junctions.count(i))"
   ]
  },
  {
   "cell_type": "code",
   "execution_count": null,
   "metadata": {},
   "outputs": [],
   "source": []
  }
 ],
 "metadata": {
  "kernelspec": {
   "display_name": "Python 3",
   "language": "python",
   "name": "python3"
  },
  "language_info": {
   "codemirror_mode": {
    "name": "ipython",
    "version": 3
   },
   "file_extension": ".py",
   "mimetype": "text/x-python",
   "name": "python",
   "nbconvert_exporter": "python",
   "pygments_lexer": "ipython3",
   "version": "3.7.0"
  }
 },
 "nbformat": 4,
 "nbformat_minor": 2
}
