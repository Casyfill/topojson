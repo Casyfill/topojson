{
 "cells": [
  {
   "cell_type": "code",
   "execution_count": 1,
   "metadata": {},
   "outputs": [],
   "source": [
    "import topojson\n",
    "from shapely import geometry\n",
    "from shapely.ops import shared_paths\n",
    "from shapely.ops import linemerge"
   ]
  },
  {
   "cell_type": "code",
   "execution_count": 2,
   "metadata": {},
   "outputs": [],
   "source": [
    "def junctions_two_lines(junctions, g1, g2):\n",
    "    forward, backward = shared_paths(g1, g2)    \n",
    "    \n",
    "    if backward.is_empty and forward.is_empty:\n",
    "        print('both empty')\n",
    "        \n",
    "    elif backward.is_empty:\n",
    "        shared_segments = forward\n",
    "    elif forward.is_empty:    \n",
    "        shared_segments = backward       \n",
    "    else:\n",
    "        print('both full')  \n",
    "        shared_segments = geometry.MultiLineString([linemerge(forward),linemerge(backward)])\n",
    "\n",
    "    for segment in shared_segments:\n",
    "        #print(segment.wkt)\n",
    "        xy = list(segment.coords) \n",
    "        xy[::len(list(xy))-1]\n",
    "        junctions.extend(xy)\n",
    "\n",
    "    # only get coordinates that appear only once\n",
    "    junctions = [i for i in junctions if junctions.count(i) is 1]        \n",
    "        \n",
    "    return junctions"
   ]
  },
  {
   "cell_type": "code",
   "execution_count": 3,
   "metadata": {},
   "outputs": [],
   "source": [
    "# equal lines\n",
    "# data = {\n",
    "#     \"abc1\": {\"type\": \"LineString\", \"coordinates\": [[0, 0], [1.0, 0], [2.0, 0]]},\n",
    "#     \"abc2\": {\"type\": \"LineString\", \"coordinates\": [[0, 0], [1.0, 0], [2.0, 0]]}\n",
    "# } \n",
    "\n",
    "# # forward backward lines\n",
    "# data = {\n",
    "#     \"abc3\": {\"type\": \"LineString\", \"coordinates\": [(0, 0), (10, 0), (10, 5), (20, 5)]},\n",
    "#     \"abc4\": {\"type\": \"LineString\", \"coordinates\": [(5, 0), (30, 0), (30, 5), (0, 5)]}\n",
    "# } \n",
    "\n",
    "# more than two lines\n",
    "data = {\n",
    "    \"abc1\": {\"type\": \"LineString\", \"coordinates\": [[0, 0], [15, 2.5], [30, 5]]},\n",
    "    \"abc2\": {\"type\": \"LineString\", \"coordinates\": [[0, 0], [15, 2.5], [30, 5]]},\n",
    "    \"abc3\": {\"type\": \"LineString\", \"coordinates\": [(0, 0), (10, 0), (10, 5), (20, 5)]},\n",
    "    \"abc4\": {\"type\": \"LineString\", \"coordinates\": [(5, 0), (30, 0), (30, 5), (0, 5)]}\n",
    "}"
   ]
  },
  {
   "cell_type": "code",
   "execution_count": 4,
   "metadata": {},
   "outputs": [],
   "source": [
    "extract = topojson.extract(data)"
   ]
  },
  {
   "cell_type": "code",
   "execution_count": 5,
   "metadata": {},
   "outputs": [],
   "source": [
    "join = topojson.join(extract)"
   ]
  },
  {
   "cell_type": "code",
   "execution_count": 6,
   "metadata": {},
   "outputs": [
    {
     "data": {
      "image/svg+xml": [
       "<svg xmlns=\"http://www.w3.org/2000/svg\" xmlns:xlink=\"http://www.w3.org/1999/xlink\" width=\"100.0\" height=\"100.0\" viewBox=\"-1.2 -1.2 32.4 7.4\" preserveAspectRatio=\"xMinYMin meet\"><g transform=\"matrix(1,0,0,-1,0,5.0)\"><g><g><circle cx=\"0.0\" cy=\"0.0\" r=\"0.972\" stroke=\"#555555\" stroke-width=\"0.324\" fill=\"#66cc99\" opacity=\"0.6\" /><circle cx=\"30.0\" cy=\"5.0\" r=\"0.972\" stroke=\"#555555\" stroke-width=\"0.324\" fill=\"#66cc99\" opacity=\"0.6\" /><circle cx=\"5.0\" cy=\"0.0\" r=\"0.972\" stroke=\"#555555\" stroke-width=\"0.324\" fill=\"#66cc99\" opacity=\"0.6\" /><circle cx=\"10.0\" cy=\"0.0\" r=\"0.972\" stroke=\"#555555\" stroke-width=\"0.324\" fill=\"#66cc99\" opacity=\"0.6\" /><circle cx=\"10.0\" cy=\"5.0\" r=\"0.972\" stroke=\"#555555\" stroke-width=\"0.324\" fill=\"#66cc99\" opacity=\"0.6\" /><circle cx=\"20.0\" cy=\"5.0\" r=\"0.972\" stroke=\"#555555\" stroke-width=\"0.324\" fill=\"#66cc99\" opacity=\"0.6\" /></g><g><polyline fill=\"none\" stroke=\"#66cc99\" stroke-width=\"0.648\" points=\"0.0,0.0 15.0,2.5 30.0,5.0\" opacity=\"0.8\" /><polyline fill=\"none\" stroke=\"#66cc99\" stroke-width=\"0.648\" points=\"0.0,0.0 15.0,2.5 30.0,5.0\" opacity=\"0.8\" /><polyline fill=\"none\" stroke=\"#66cc99\" stroke-width=\"0.648\" points=\"0.0,0.0 10.0,0.0 10.0,5.0 20.0,5.0\" opacity=\"0.8\" /><polyline fill=\"none\" stroke=\"#66cc99\" stroke-width=\"0.648\" points=\"5.0,0.0 30.0,0.0 30.0,5.0 0.0,5.0\" opacity=\"0.8\" /></g></g></g></svg>"
      ],
      "text/plain": [
       "<shapely.geometry.collection.GeometryCollection at 0x1098cd0f0>"
      ]
     },
     "execution_count": 6,
     "metadata": {},
     "output_type": "execute_result"
    }
   ],
   "source": [
    "geometry.GeometryCollection([\n",
    "    geometry.MultiPoint(join['junctions']),\n",
    "    geometry.MultiLineString(join['lines'])\n",
    "])"
   ]
  },
  {
   "cell_type": "code",
   "execution_count": null,
   "metadata": {},
   "outputs": [],
   "source": []
  }
 ],
 "metadata": {
  "kernelspec": {
   "display_name": "Python 3",
   "language": "python",
   "name": "python3"
  },
  "language_info": {
   "codemirror_mode": {
    "name": "ipython",
    "version": 3
   },
   "file_extension": ".py",
   "mimetype": "text/x-python",
   "name": "python",
   "nbconvert_exporter": "python",
   "pygments_lexer": "ipython3",
   "version": "3.7.0"
  }
 },
 "nbformat": 4,
 "nbformat_minor": 2
}
